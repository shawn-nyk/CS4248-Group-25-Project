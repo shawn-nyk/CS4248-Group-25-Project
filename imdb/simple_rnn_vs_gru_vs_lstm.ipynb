{
  "cells": [
    {
      "cell_type": "code",
      "execution_count": 5,
      "metadata": {
        "colab": {
          "base_uri": "https://localhost:8080/"
        },
        "id": "pwKcAVDmTT-j",
        "outputId": "f27d56f6-dff9-4bd0-e81d-90ecc1dc5c90"
      },
      "outputs": [
        {
          "name": "stdout",
          "output_type": "stream",
          "text": [
            "[nltk_data] Downloading package punkt to /root/nltk_data...\n",
            "[nltk_data]   Unzipping tokenizers/punkt.zip.\n"
          ]
        },
        {
          "data": {
            "text/plain": [
              "True"
            ]
          },
          "execution_count": 5,
          "metadata": {},
          "output_type": "execute_result"
        }
      ],
      "source": [
        "# Uncomment all for the first run on Colab\n",
        "!tar -xf aclImdb_v1.tar.gz\n",
        "import nltk\n",
        "nltk.download('punkt')"
      ]
    },
    {
      "cell_type": "code",
      "execution_count": 6,
      "metadata": {
        "id": "gMXKnWRCq_lq"
      },
      "outputs": [],
      "source": [
        "import os\n",
        "import pandas as pd\n",
        "import numpy as np\n",
        "from nltk.tokenize import word_tokenize\n",
        "from collections import Counter\n",
        "from keras.preprocessing import sequence\n",
        "from sklearn.model_selection import train_test_split"
      ]
    },
    {
      "cell_type": "markdown",
      "metadata": {
        "id": "h7za2XhryELG"
      },
      "source": [
        "Convert training data into csv file"
      ]
    },
    {
      "cell_type": "code",
      "execution_count": 7,
      "metadata": {
        "id": "zzKToyYBtw28"
      },
      "outputs": [],
      "source": [
        "pathNeg = \"aclImdb/train/neg\"\n",
        "files = os.listdir(pathNeg)\n",
        "data = []\n",
        "for file in files:\n",
        "  if os.path.isfile(os.path.join(pathNeg, file)):\n",
        "    id = int(file.split(\"_\")[0])\n",
        "    with open(os.path.join(pathNeg, file), encoding='utf8') as f:\n",
        "      lines = f.read()\n",
        "    data.append([id, lines, 0])\n",
        "\n",
        "sizeOfNeg = 12500\n",
        "\n",
        "pathPos = \"aclImdb/train/pos\"\n",
        "files = os.listdir(pathPos)\n",
        "for file in files:\n",
        "  if os.path.isfile(os.path.join(pathPos, file)):\n",
        "    id = int(file.split(\"_\")[0]) + sizeOfNeg\n",
        "    with open(os.path.join(pathPos, file), encoding='utf8') as f:\n",
        "      lines = f.read()\n",
        "    data.append([id, lines, 1])\n",
        "\n",
        "\n",
        "df = pd.DataFrame(data, columns = ['id', 'text', 'score']).set_index('id').sort_index()\n",
        "df.to_csv('train.csv')"
      ]
    },
    {
      "cell_type": "markdown",
      "metadata": {
        "id": "9GNrBVLJyil9"
      },
      "source": [
        "Convert testing data into csv file"
      ]
    },
    {
      "cell_type": "code",
      "execution_count": 8,
      "metadata": {
        "id": "82nRVA3QyiDK"
      },
      "outputs": [],
      "source": [
        "pathNeg = \"aclImdb/test/neg\"\n",
        "files = os.listdir(pathNeg)\n",
        "data = []\n",
        "for file in files:\n",
        "  if os.path.isfile(os.path.join(pathNeg, file)):\n",
        "    id = int(file.split(\"_\")[0])\n",
        "    with open(os.path.join(pathNeg, file), encoding='utf8') as f:\n",
        "      lines = f.read()\n",
        "    data.append([id, lines, 0])\n",
        "\n",
        "sizeOfNeg = 12500\n",
        "\n",
        "pathPos = \"aclImdb/test/pos\"\n",
        "files = os.listdir(pathPos)\n",
        "for file in files:\n",
        "  if os.path.isfile(os.path.join(pathPos, file)):\n",
        "    id = int(file.split(\"_\")[0]) + sizeOfNeg\n",
        "    with open(os.path.join(pathPos, file), encoding='utf8') as f:\n",
        "      lines = f.read()\n",
        "    data.append([id, lines, 1])\n",
        "\n",
        "\n",
        "df = pd.DataFrame(data, columns = ['id', 'text', 'score']).set_index('id').sort_index()\n",
        "df.to_csv('test.csv')"
      ]
    },
    {
      "cell_type": "markdown",
      "metadata": {
        "id": "uZpPn7ASz2g_"
      },
      "source": [
        "convert vocab into csv file"
      ]
    },
    {
      "cell_type": "code",
      "execution_count": 9,
      "metadata": {
        "colab": {
          "base_uri": "https://localhost:8080/"
        },
        "id": "owrxmb-kz1-O",
        "outputId": "532b1bb1-6189-43a4-b0f9-824422c4e580"
      },
      "outputs": [
        {
          "name": "stdout",
          "output_type": "stream",
          "text": [
            "                   vocab\n",
            "0                    the\n",
            "1                    and\n",
            "2                      a\n",
            "3                     of\n",
            "4                     to\n",
            "...                  ...\n",
            "89522          copywrite\n",
            "89523             artbox\n",
            "89524          kinky-sex\n",
            "89525           urrrghhh\n",
            "89526  investigator-like\n",
            "\n",
            "[89527 rows x 1 columns]\n"
          ]
        }
      ],
      "source": [
        "with open(\"aclImdb/imdb.vocab\", encoding='utf8') as f:\n",
        "  vocab = []\n",
        "  for line in f:\n",
        "    vocab.append(line.rstrip())\n",
        "\n",
        "vocab_df = pd.DataFrame(vocab, columns=['vocab'])\n",
        "print(vocab_df)\n",
        "vocab_df.to_csv('vocab_given.csv', index=False)"
      ]
    },
    {
      "cell_type": "code",
      "execution_count": 10,
      "metadata": {
        "id": "CbTHvWVUAtsG"
      },
      "outputs": [],
      "source": [
        "from nltk.tokenize import word_tokenize\n",
        "\n",
        "def tokenizeReview(review):\n",
        "  review = review.replace('.', ' . ')\n",
        "  tokens = word_tokenize(review.lower())\n",
        "  return tokens"
      ]
    },
    {
      "cell_type": "code",
      "execution_count": 11,
      "metadata": {
        "id": "mLViELJAVFVZ"
      },
      "outputs": [],
      "source": [
        "train_df = pd.read_csv('train.csv')\n",
        "test_df = pd.read_csv('test.csv')"
      ]
    },
    {
      "cell_type": "markdown",
      "metadata": {
        "id": "j_4trjw6ZQWU"
      },
      "source": [
        "Get vocab from training set"
      ]
    },
    {
      "cell_type": "code",
      "execution_count": 12,
      "metadata": {
        "id": "A2HeD-pqZQNl"
      },
      "outputs": [],
      "source": [
        "from collections import Counter\n",
        "reviews = train_df['text'].tolist()\n",
        "reviews = list(map(tokenizeReview, reviews))\n",
        "reviews = [item for review in reviews for item in review]\n",
        "vdict = Counter(reviews).most_common()"
      ]
    },
    {
      "cell_type": "code",
      "execution_count": 13,
      "metadata": {
        "colab": {
          "base_uri": "https://localhost:8080/"
        },
        "id": "h2ENkTAedRPJ",
        "outputId": "b989256f-501b-4432-bb48-5cf77b8a73c8"
      },
      "outputs": [
        {
          "name": "stdout",
          "output_type": "stream",
          "text": [
            "               vocab\n",
            "0                the\n",
            "1                  .\n",
            "2                  ,\n",
            "3                and\n",
            "4                  a\n",
            "...              ...\n",
            "100550    people-and\n",
            "100551         padre\n",
            "100552   unmatchable\n",
            "100553  scenery-wise\n",
            "100554  non-teenager\n",
            "\n",
            "[100555 rows x 1 columns]\n"
          ]
        }
      ],
      "source": [
        "vocabs = []\n",
        "for pair in vdict:\n",
        "  vocabs.append(pair[0])\n",
        "\n",
        "vocab_df = pd.DataFrame(vocabs, columns=['vocab'])\n",
        "vocab_df.to_csv('vocab.csv', index=False)\n",
        "print(vocab_df)"
      ]
    },
    {
      "cell_type": "markdown",
      "metadata": {
        "id": "5jmqBO6nyORE"
      },
      "source": [
        "Read training data and test data from csv file"
      ]
    },
    {
      "cell_type": "code",
      "execution_count": 14,
      "metadata": {
        "colab": {
          "base_uri": "https://localhost:8080/"
        },
        "id": "jPmFOCWZyNtY",
        "outputId": "6fa41740-6f29-44f6-9c3e-42235a00205e"
      },
      "outputs": [
        {
          "name": "stdout",
          "output_type": "stream",
          "text": [
            "               vocab\n",
            "0                the\n",
            "1                  .\n",
            "2                  ,\n",
            "3                and\n",
            "4                  a\n",
            "...              ...\n",
            "100550    people-and\n",
            "100551         padre\n",
            "100552   unmatchable\n",
            "100553  scenery-wise\n",
            "100554  non-teenager\n",
            "\n",
            "[100555 rows x 1 columns]\n"
          ]
        }
      ],
      "source": [
        "vocab_df = pd.read_csv('vocab.csv')\n",
        "print(vocab_df)"
      ]
    },
    {
      "cell_type": "code",
      "execution_count": 15,
      "metadata": {
        "id": "NI0BwC5Y44j0"
      },
      "outputs": [],
      "source": [
        "vocab_dict = pd.Series(vocab_df.index + 1, index=vocab_df.vocab).to_dict()\n",
        "# print(vocab_dict)"
      ]
    },
    {
      "cell_type": "code",
      "execution_count": 16,
      "metadata": {
        "id": "gcwKHOAF7q0L"
      },
      "outputs": [],
      "source": [
        "def convertToIndex(review):\n",
        "  vec = []\n",
        "  for word in review:\n",
        "    if word in vocab_dict:\n",
        "      vec.append(int(vocab_dict[word]))\n",
        "    else:\n",
        "      vec.append(0)\n",
        "  return vec"
      ]
    },
    {
      "cell_type": "code",
      "execution_count": 17,
      "metadata": {
        "id": "N76UYbaU8aqD"
      },
      "outputs": [],
      "source": [
        "train_df['tokens'] = train_df['text'].apply(tokenizeReview)\n",
        "test_df['tokens'] = test_df['text'].apply(tokenizeReview)"
      ]
    },
    {
      "cell_type": "code",
      "execution_count": 18,
      "metadata": {
        "id": "l9_yM1XLD7-4"
      },
      "outputs": [],
      "source": [
        "train_df['vec'] = train_df['tokens'].apply(convertToIndex)\n",
        "test_df['vec'] = test_df['tokens'].apply(convertToIndex)"
      ]
    },
    {
      "cell_type": "code",
      "execution_count": 19,
      "metadata": {
        "colab": {
          "base_uri": "https://localhost:8080/",
          "height": 424
        },
        "id": "9Ng3zTgcD3DW",
        "outputId": "f80a7492-e6f5-4bd3-8078-c4dbe43730c0"
      },
      "outputs": [
        {
          "data": {
            "text/html": [
              "\n",
              "  <div id=\"df-3f431874-035e-4ab5-a78c-3976fdce59d6\">\n",
              "    <div class=\"colab-df-container\">\n",
              "      <div>\n",
              "<style scoped>\n",
              "    .dataframe tbody tr th:only-of-type {\n",
              "        vertical-align: middle;\n",
              "    }\n",
              "\n",
              "    .dataframe tbody tr th {\n",
              "        vertical-align: top;\n",
              "    }\n",
              "\n",
              "    .dataframe thead th {\n",
              "        text-align: right;\n",
              "    }\n",
              "</style>\n",
              "<table border=\"1\" class=\"dataframe\">\n",
              "  <thead>\n",
              "    <tr style=\"text-align: right;\">\n",
              "      <th></th>\n",
              "      <th>id</th>\n",
              "      <th>text</th>\n",
              "      <th>score</th>\n",
              "      <th>tokens</th>\n",
              "      <th>vec</th>\n",
              "    </tr>\n",
              "  </thead>\n",
              "  <tbody>\n",
              "    <tr>\n",
              "      <th>0</th>\n",
              "      <td>0</td>\n",
              "      <td>Story of a man who has unnatural feelings for ...</td>\n",
              "      <td>0</td>\n",
              "      <td>[story, of, a, man, who, has, unnatural, feeli...</td>\n",
              "      <td>[76, 6, 5, 141, 46, 56, 7522, 1382, 21, 5, 451...</td>\n",
              "    </tr>\n",
              "    <tr>\n",
              "      <th>1</th>\n",
              "      <td>1</td>\n",
              "      <td>Robert DeNiro plays the most unbelievably inte...</td>\n",
              "      <td>0</td>\n",
              "      <td>[robert, deniro, plays, the, most, unbelievabl...</td>\n",
              "      <td>[646, 5007, 306, 1, 106, 3768, 1072, 9205, 6, ...</td>\n",
              "    </tr>\n",
              "    <tr>\n",
              "      <th>2</th>\n",
              "      <td>2</td>\n",
              "      <td>I saw the capsule comment said \"great acting.\"...</td>\n",
              "      <td>0</td>\n",
              "      <td>[i, saw, the, capsule, comment, said, ``, grea...</td>\n",
              "      <td>[15, 225, 1, 9589, 902, 310, 28, 102, 128, 2, ...</td>\n",
              "    </tr>\n",
              "    <tr>\n",
              "      <th>3</th>\n",
              "      <td>3</td>\n",
              "      <td>If I had not read Pat Barker's 'Union Street' ...</td>\n",
              "      <td>0</td>\n",
              "      <td>[if, i, had, not, read, pat, barker, 's, 'unio...</td>\n",
              "      <td>[57, 15, 78, 32, 337, 3188, 7722, 18, 34406, 8...</td>\n",
              "    </tr>\n",
              "    <tr>\n",
              "      <th>4</th>\n",
              "      <td>4</td>\n",
              "      <td>This fanciful horror flick has Vincent Price p...</td>\n",
              "      <td>0</td>\n",
              "      <td>[this, fanciful, horror, flick, has, vincent, ...</td>\n",
              "      <td>[16, 16026, 212, 511, 56, 3152, 1785, 396, 5, ...</td>\n",
              "    </tr>\n",
              "    <tr>\n",
              "      <th>...</th>\n",
              "      <td>...</td>\n",
              "      <td>...</td>\n",
              "      <td>...</td>\n",
              "      <td>...</td>\n",
              "      <td>...</td>\n",
              "    </tr>\n",
              "    <tr>\n",
              "      <th>24995</th>\n",
              "      <td>24995</td>\n",
              "      <td>What's Good About It: Some inventive and genui...</td>\n",
              "      <td>1</td>\n",
              "      <td>[what, 's, good, about, it, :, some, inventive...</td>\n",
              "      <td>[60, 18, 62, 55, 13, 86, 61, 4389, 4, 2034, 93...</td>\n",
              "    </tr>\n",
              "    <tr>\n",
              "      <th>24996</th>\n",
              "      <td>24996</td>\n",
              "      <td>For years we've been watching every horror fil...</td>\n",
              "      <td>1</td>\n",
              "      <td>[for, years, we, 've, been, watching, every, h...</td>\n",
              "      <td>[21, 167, 82, 154, 93, 162, 187, 212, 25, 17, ...</td>\n",
              "    </tr>\n",
              "    <tr>\n",
              "      <th>24997</th>\n",
              "      <td>24997</td>\n",
              "      <td>If you haven't already seen this movie of Mary...</td>\n",
              "      <td>1</td>\n",
              "      <td>[if, you, have, n't, already, seen, this, movi...</td>\n",
              "      <td>[57, 29, 37, 31, 466, 125, 16, 23, 6, 13592, 4...</td>\n",
              "    </tr>\n",
              "    <tr>\n",
              "      <th>24998</th>\n",
              "      <td>24998</td>\n",
              "      <td>this movie is the best movie ever it has a lot...</td>\n",
              "      <td>1</td>\n",
              "      <td>[this, movie, is, the, best, movie, ever, it, ...</td>\n",
              "      <td>[16, 23, 8, 1, 132, 23, 137, 13, 56, 5, 185, 6...</td>\n",
              "    </tr>\n",
              "    <tr>\n",
              "      <th>24999</th>\n",
              "      <td>24999</td>\n",
              "      <td>I always feel strange and guilty saying it (be...</td>\n",
              "      <td>1</td>\n",
              "      <td>[i, always, feel, strange, and, guilty, saying...</td>\n",
              "      <td>[15, 221, 247, 665, 4, 2489, 649, 13, 27, 101,...</td>\n",
              "    </tr>\n",
              "  </tbody>\n",
              "</table>\n",
              "<p>25000 rows × 5 columns</p>\n",
              "</div>\n",
              "      <button class=\"colab-df-convert\" onclick=\"convertToInteractive('df-3f431874-035e-4ab5-a78c-3976fdce59d6')\"\n",
              "              title=\"Convert this dataframe to an interactive table.\"\n",
              "              style=\"display:none;\">\n",
              "        \n",
              "  <svg xmlns=\"http://www.w3.org/2000/svg\" height=\"24px\"viewBox=\"0 0 24 24\"\n",
              "       width=\"24px\">\n",
              "    <path d=\"M0 0h24v24H0V0z\" fill=\"none\"/>\n",
              "    <path d=\"M18.56 5.44l.94 2.06.94-2.06 2.06-.94-2.06-.94-.94-2.06-.94 2.06-2.06.94zm-11 1L8.5 8.5l.94-2.06 2.06-.94-2.06-.94L8.5 2.5l-.94 2.06-2.06.94zm10 10l.94 2.06.94-2.06 2.06-.94-2.06-.94-.94-2.06-.94 2.06-2.06.94z\"/><path d=\"M17.41 7.96l-1.37-1.37c-.4-.4-.92-.59-1.43-.59-.52 0-1.04.2-1.43.59L10.3 9.45l-7.72 7.72c-.78.78-.78 2.05 0 2.83L4 21.41c.39.39.9.59 1.41.59.51 0 1.02-.2 1.41-.59l7.78-7.78 2.81-2.81c.8-.78.8-2.07 0-2.86zM5.41 20L4 18.59l7.72-7.72 1.47 1.35L5.41 20z\"/>\n",
              "  </svg>\n",
              "      </button>\n",
              "      \n",
              "  <style>\n",
              "    .colab-df-container {\n",
              "      display:flex;\n",
              "      flex-wrap:wrap;\n",
              "      gap: 12px;\n",
              "    }\n",
              "\n",
              "    .colab-df-convert {\n",
              "      background-color: #E8F0FE;\n",
              "      border: none;\n",
              "      border-radius: 50%;\n",
              "      cursor: pointer;\n",
              "      display: none;\n",
              "      fill: #1967D2;\n",
              "      height: 32px;\n",
              "      padding: 0 0 0 0;\n",
              "      width: 32px;\n",
              "    }\n",
              "\n",
              "    .colab-df-convert:hover {\n",
              "      background-color: #E2EBFA;\n",
              "      box-shadow: 0px 1px 2px rgba(60, 64, 67, 0.3), 0px 1px 3px 1px rgba(60, 64, 67, 0.15);\n",
              "      fill: #174EA6;\n",
              "    }\n",
              "\n",
              "    [theme=dark] .colab-df-convert {\n",
              "      background-color: #3B4455;\n",
              "      fill: #D2E3FC;\n",
              "    }\n",
              "\n",
              "    [theme=dark] .colab-df-convert:hover {\n",
              "      background-color: #434B5C;\n",
              "      box-shadow: 0px 1px 3px 1px rgba(0, 0, 0, 0.15);\n",
              "      filter: drop-shadow(0px 1px 2px rgba(0, 0, 0, 0.3));\n",
              "      fill: #FFFFFF;\n",
              "    }\n",
              "  </style>\n",
              "\n",
              "      <script>\n",
              "        const buttonEl =\n",
              "          document.querySelector('#df-3f431874-035e-4ab5-a78c-3976fdce59d6 button.colab-df-convert');\n",
              "        buttonEl.style.display =\n",
              "          google.colab.kernel.accessAllowed ? 'block' : 'none';\n",
              "\n",
              "        async function convertToInteractive(key) {\n",
              "          const element = document.querySelector('#df-3f431874-035e-4ab5-a78c-3976fdce59d6');\n",
              "          const dataTable =\n",
              "            await google.colab.kernel.invokeFunction('convertToInteractive',\n",
              "                                                     [key], {});\n",
              "          if (!dataTable) return;\n",
              "\n",
              "          const docLinkHtml = 'Like what you see? Visit the ' +\n",
              "            '<a target=\"_blank\" href=https://colab.research.google.com/notebooks/data_table.ipynb>data table notebook</a>'\n",
              "            + ' to learn more about interactive tables.';\n",
              "          element.innerHTML = '';\n",
              "          dataTable['output_type'] = 'display_data';\n",
              "          await google.colab.output.renderOutput(dataTable, element);\n",
              "          const docLink = document.createElement('div');\n",
              "          docLink.innerHTML = docLinkHtml;\n",
              "          element.appendChild(docLink);\n",
              "        }\n",
              "      </script>\n",
              "    </div>\n",
              "  </div>\n",
              "  "
            ],
            "text/plain": [
              "          id                                               text  score  \\\n",
              "0          0  Story of a man who has unnatural feelings for ...      0   \n",
              "1          1  Robert DeNiro plays the most unbelievably inte...      0   \n",
              "2          2  I saw the capsule comment said \"great acting.\"...      0   \n",
              "3          3  If I had not read Pat Barker's 'Union Street' ...      0   \n",
              "4          4  This fanciful horror flick has Vincent Price p...      0   \n",
              "...      ...                                                ...    ...   \n",
              "24995  24995  What's Good About It: Some inventive and genui...      1   \n",
              "24996  24996  For years we've been watching every horror fil...      1   \n",
              "24997  24997  If you haven't already seen this movie of Mary...      1   \n",
              "24998  24998  this movie is the best movie ever it has a lot...      1   \n",
              "24999  24999  I always feel strange and guilty saying it (be...      1   \n",
              "\n",
              "                                                  tokens  \\\n",
              "0      [story, of, a, man, who, has, unnatural, feeli...   \n",
              "1      [robert, deniro, plays, the, most, unbelievabl...   \n",
              "2      [i, saw, the, capsule, comment, said, ``, grea...   \n",
              "3      [if, i, had, not, read, pat, barker, 's, 'unio...   \n",
              "4      [this, fanciful, horror, flick, has, vincent, ...   \n",
              "...                                                  ...   \n",
              "24995  [what, 's, good, about, it, :, some, inventive...   \n",
              "24996  [for, years, we, 've, been, watching, every, h...   \n",
              "24997  [if, you, have, n't, already, seen, this, movi...   \n",
              "24998  [this, movie, is, the, best, movie, ever, it, ...   \n",
              "24999  [i, always, feel, strange, and, guilty, saying...   \n",
              "\n",
              "                                                     vec  \n",
              "0      [76, 6, 5, 141, 46, 56, 7522, 1382, 21, 5, 451...  \n",
              "1      [646, 5007, 306, 1, 106, 3768, 1072, 9205, 6, ...  \n",
              "2      [15, 225, 1, 9589, 902, 310, 28, 102, 128, 2, ...  \n",
              "3      [57, 15, 78, 32, 337, 3188, 7722, 18, 34406, 8...  \n",
              "4      [16, 16026, 212, 511, 56, 3152, 1785, 396, 5, ...  \n",
              "...                                                  ...  \n",
              "24995  [60, 18, 62, 55, 13, 86, 61, 4389, 4, 2034, 93...  \n",
              "24996  [21, 167, 82, 154, 93, 162, 187, 212, 25, 17, ...  \n",
              "24997  [57, 29, 37, 31, 466, 125, 16, 23, 6, 13592, 4...  \n",
              "24998  [16, 23, 8, 1, 132, 23, 137, 13, 56, 5, 185, 6...  \n",
              "24999  [15, 221, 247, 665, 4, 2489, 649, 13, 27, 101,...  \n",
              "\n",
              "[25000 rows x 5 columns]"
            ]
          },
          "execution_count": 19,
          "metadata": {},
          "output_type": "execute_result"
        }
      ],
      "source": [
        "train_df"
      ]
    },
    {
      "cell_type": "code",
      "execution_count": 20,
      "metadata": {
        "colab": {
          "base_uri": "https://localhost:8080/",
          "height": 424
        },
        "id": "FXuJ1ZyYZ1MR",
        "outputId": "b8e174b5-aa70-49ed-d7d0-aff5cd706557"
      },
      "outputs": [
        {
          "data": {
            "text/html": [
              "\n",
              "  <div id=\"df-ac82cb5e-e8e6-4264-b2b0-a128d3bfdc02\">\n",
              "    <div class=\"colab-df-container\">\n",
              "      <div>\n",
              "<style scoped>\n",
              "    .dataframe tbody tr th:only-of-type {\n",
              "        vertical-align: middle;\n",
              "    }\n",
              "\n",
              "    .dataframe tbody tr th {\n",
              "        vertical-align: top;\n",
              "    }\n",
              "\n",
              "    .dataframe thead th {\n",
              "        text-align: right;\n",
              "    }\n",
              "</style>\n",
              "<table border=\"1\" class=\"dataframe\">\n",
              "  <thead>\n",
              "    <tr style=\"text-align: right;\">\n",
              "      <th></th>\n",
              "      <th>id</th>\n",
              "      <th>text</th>\n",
              "      <th>score</th>\n",
              "      <th>tokens</th>\n",
              "      <th>vec</th>\n",
              "    </tr>\n",
              "  </thead>\n",
              "  <tbody>\n",
              "    <tr>\n",
              "      <th>0</th>\n",
              "      <td>0</td>\n",
              "      <td>Once again Mr. Costner has dragged out a movie...</td>\n",
              "      <td>0</td>\n",
              "      <td>[once, again, mr, ., costner, has, dragged, ou...</td>\n",
              "      <td>[292, 184, 450, 2, 9811, 56, 3291, 58, 5, 23, ...</td>\n",
              "    </tr>\n",
              "    <tr>\n",
              "      <th>1</th>\n",
              "      <td>1</td>\n",
              "      <td>This is a pale imitation of 'Officer and a Gen...</td>\n",
              "      <td>0</td>\n",
              "      <td>[this, is, a, pale, imitation, of, 'officer, a...</td>\n",
              "      <td>[16, 8, 5, 6404, 4969, 6, 0, 4, 5, 4907, 2, 87...</td>\n",
              "    </tr>\n",
              "    <tr>\n",
              "      <th>2</th>\n",
              "      <td>2</td>\n",
              "      <td>It seems ever since 1982, about every two or t...</td>\n",
              "      <td>0</td>\n",
              "      <td>[it, seems, ever, since, 1982, ,, about, every...</td>\n",
              "      <td>[13, 199, 137, 244, 6605, 3, 55, 187, 123, 52,...</td>\n",
              "    </tr>\n",
              "    <tr>\n",
              "      <th>3</th>\n",
              "      <td>3</td>\n",
              "      <td>Wow, another Kevin Costner hero movie. Postman...</td>\n",
              "      <td>0</td>\n",
              "      <td>[wow, ,, another, kevin, costner, hero, movie,...</td>\n",
              "      <td>[1297, 3, 169, 1795, 9811, 631, 23, 2, 10444, ...</td>\n",
              "    </tr>\n",
              "    <tr>\n",
              "      <th>4</th>\n",
              "      <td>4</td>\n",
              "      <td>Alas, another Costner movie that was an hour t...</td>\n",
              "      <td>0</td>\n",
              "      <td>[alas, ,, another, costner, movie, that, was, ...</td>\n",
              "      <td>[2880, 3, 169, 9811, 23, 17, 19, 45, 566, 113,...</td>\n",
              "    </tr>\n",
              "    <tr>\n",
              "      <th>...</th>\n",
              "      <td>...</td>\n",
              "      <td>...</td>\n",
              "      <td>...</td>\n",
              "      <td>...</td>\n",
              "      <td>...</td>\n",
              "    </tr>\n",
              "    <tr>\n",
              "      <th>24995</th>\n",
              "      <td>24995</td>\n",
              "      <td>Sex, drugs, racism and of course you ABC's. Wh...</td>\n",
              "      <td>1</td>\n",
              "      <td>[sex, ,, drugs, ,, racism, and, of, course, yo...</td>\n",
              "      <td>[404, 3, 1647, 3, 3054, 4, 6, 271, 29, 3630, 1...</td>\n",
              "    </tr>\n",
              "    <tr>\n",
              "      <th>24996</th>\n",
              "      <td>24996</td>\n",
              "      <td>I love this show. My girlfriend was gonna get ...</td>\n",
              "      <td>1</td>\n",
              "      <td>[i, love, this, show, ., my, girlfriend, was, ...</td>\n",
              "      <td>[15, 133, 16, 135, 2, 69, 998, 19, 2081, 1406,...</td>\n",
              "    </tr>\n",
              "    <tr>\n",
              "      <th>24997</th>\n",
              "      <td>24997</td>\n",
              "      <td>Seeing this show gives me respect for MTV, tho...</td>\n",
              "      <td>1</td>\n",
              "      <td>[seeing, this, show, gives, me, respect, for, ...</td>\n",
              "      <td>[323, 16, 135, 405, 83, 1156, 21, 5225, 3, 163...</td>\n",
              "    </tr>\n",
              "    <tr>\n",
              "      <th>24998</th>\n",
              "      <td>24998</td>\n",
              "      <td>I'm torn about this show. While MOST parts of ...</td>\n",
              "      <td>1</td>\n",
              "      <td>[i, 'm, torn, about, this, show, ., while, mos...</td>\n",
              "      <td>[15, 160, 3203, 55, 16, 135, 2, 150, 106, 526,...</td>\n",
              "    </tr>\n",
              "    <tr>\n",
              "      <th>24999</th>\n",
              "      <td>24999</td>\n",
              "      <td>I was plagued by nightmares involving Sesame S...</td>\n",
              "      <td>1</td>\n",
              "      <td>[i, was, plagued, by, nightmares, involving, s...</td>\n",
              "      <td>[15, 19, 8634, 44, 4042, 1200, 11185, 886, 4, ...</td>\n",
              "    </tr>\n",
              "  </tbody>\n",
              "</table>\n",
              "<p>25000 rows × 5 columns</p>\n",
              "</div>\n",
              "      <button class=\"colab-df-convert\" onclick=\"convertToInteractive('df-ac82cb5e-e8e6-4264-b2b0-a128d3bfdc02')\"\n",
              "              title=\"Convert this dataframe to an interactive table.\"\n",
              "              style=\"display:none;\">\n",
              "        \n",
              "  <svg xmlns=\"http://www.w3.org/2000/svg\" height=\"24px\"viewBox=\"0 0 24 24\"\n",
              "       width=\"24px\">\n",
              "    <path d=\"M0 0h24v24H0V0z\" fill=\"none\"/>\n",
              "    <path d=\"M18.56 5.44l.94 2.06.94-2.06 2.06-.94-2.06-.94-.94-2.06-.94 2.06-2.06.94zm-11 1L8.5 8.5l.94-2.06 2.06-.94-2.06-.94L8.5 2.5l-.94 2.06-2.06.94zm10 10l.94 2.06.94-2.06 2.06-.94-2.06-.94-.94-2.06-.94 2.06-2.06.94z\"/><path d=\"M17.41 7.96l-1.37-1.37c-.4-.4-.92-.59-1.43-.59-.52 0-1.04.2-1.43.59L10.3 9.45l-7.72 7.72c-.78.78-.78 2.05 0 2.83L4 21.41c.39.39.9.59 1.41.59.51 0 1.02-.2 1.41-.59l7.78-7.78 2.81-2.81c.8-.78.8-2.07 0-2.86zM5.41 20L4 18.59l7.72-7.72 1.47 1.35L5.41 20z\"/>\n",
              "  </svg>\n",
              "      </button>\n",
              "      \n",
              "  <style>\n",
              "    .colab-df-container {\n",
              "      display:flex;\n",
              "      flex-wrap:wrap;\n",
              "      gap: 12px;\n",
              "    }\n",
              "\n",
              "    .colab-df-convert {\n",
              "      background-color: #E8F0FE;\n",
              "      border: none;\n",
              "      border-radius: 50%;\n",
              "      cursor: pointer;\n",
              "      display: none;\n",
              "      fill: #1967D2;\n",
              "      height: 32px;\n",
              "      padding: 0 0 0 0;\n",
              "      width: 32px;\n",
              "    }\n",
              "\n",
              "    .colab-df-convert:hover {\n",
              "      background-color: #E2EBFA;\n",
              "      box-shadow: 0px 1px 2px rgba(60, 64, 67, 0.3), 0px 1px 3px 1px rgba(60, 64, 67, 0.15);\n",
              "      fill: #174EA6;\n",
              "    }\n",
              "\n",
              "    [theme=dark] .colab-df-convert {\n",
              "      background-color: #3B4455;\n",
              "      fill: #D2E3FC;\n",
              "    }\n",
              "\n",
              "    [theme=dark] .colab-df-convert:hover {\n",
              "      background-color: #434B5C;\n",
              "      box-shadow: 0px 1px 3px 1px rgba(0, 0, 0, 0.15);\n",
              "      filter: drop-shadow(0px 1px 2px rgba(0, 0, 0, 0.3));\n",
              "      fill: #FFFFFF;\n",
              "    }\n",
              "  </style>\n",
              "\n",
              "      <script>\n",
              "        const buttonEl =\n",
              "          document.querySelector('#df-ac82cb5e-e8e6-4264-b2b0-a128d3bfdc02 button.colab-df-convert');\n",
              "        buttonEl.style.display =\n",
              "          google.colab.kernel.accessAllowed ? 'block' : 'none';\n",
              "\n",
              "        async function convertToInteractive(key) {\n",
              "          const element = document.querySelector('#df-ac82cb5e-e8e6-4264-b2b0-a128d3bfdc02');\n",
              "          const dataTable =\n",
              "            await google.colab.kernel.invokeFunction('convertToInteractive',\n",
              "                                                     [key], {});\n",
              "          if (!dataTable) return;\n",
              "\n",
              "          const docLinkHtml = 'Like what you see? Visit the ' +\n",
              "            '<a target=\"_blank\" href=https://colab.research.google.com/notebooks/data_table.ipynb>data table notebook</a>'\n",
              "            + ' to learn more about interactive tables.';\n",
              "          element.innerHTML = '';\n",
              "          dataTable['output_type'] = 'display_data';\n",
              "          await google.colab.output.renderOutput(dataTable, element);\n",
              "          const docLink = document.createElement('div');\n",
              "          docLink.innerHTML = docLinkHtml;\n",
              "          element.appendChild(docLink);\n",
              "        }\n",
              "      </script>\n",
              "    </div>\n",
              "  </div>\n",
              "  "
            ],
            "text/plain": [
              "          id                                               text  score  \\\n",
              "0          0  Once again Mr. Costner has dragged out a movie...      0   \n",
              "1          1  This is a pale imitation of 'Officer and a Gen...      0   \n",
              "2          2  It seems ever since 1982, about every two or t...      0   \n",
              "3          3  Wow, another Kevin Costner hero movie. Postman...      0   \n",
              "4          4  Alas, another Costner movie that was an hour t...      0   \n",
              "...      ...                                                ...    ...   \n",
              "24995  24995  Sex, drugs, racism and of course you ABC's. Wh...      1   \n",
              "24996  24996  I love this show. My girlfriend was gonna get ...      1   \n",
              "24997  24997  Seeing this show gives me respect for MTV, tho...      1   \n",
              "24998  24998  I'm torn about this show. While MOST parts of ...      1   \n",
              "24999  24999  I was plagued by nightmares involving Sesame S...      1   \n",
              "\n",
              "                                                  tokens  \\\n",
              "0      [once, again, mr, ., costner, has, dragged, ou...   \n",
              "1      [this, is, a, pale, imitation, of, 'officer, a...   \n",
              "2      [it, seems, ever, since, 1982, ,, about, every...   \n",
              "3      [wow, ,, another, kevin, costner, hero, movie,...   \n",
              "4      [alas, ,, another, costner, movie, that, was, ...   \n",
              "...                                                  ...   \n",
              "24995  [sex, ,, drugs, ,, racism, and, of, course, yo...   \n",
              "24996  [i, love, this, show, ., my, girlfriend, was, ...   \n",
              "24997  [seeing, this, show, gives, me, respect, for, ...   \n",
              "24998  [i, 'm, torn, about, this, show, ., while, mos...   \n",
              "24999  [i, was, plagued, by, nightmares, involving, s...   \n",
              "\n",
              "                                                     vec  \n",
              "0      [292, 184, 450, 2, 9811, 56, 3291, 58, 5, 23, ...  \n",
              "1      [16, 8, 5, 6404, 4969, 6, 0, 4, 5, 4907, 2, 87...  \n",
              "2      [13, 199, 137, 244, 6605, 3, 55, 187, 123, 52,...  \n",
              "3      [1297, 3, 169, 1795, 9811, 631, 23, 2, 10444, ...  \n",
              "4      [2880, 3, 169, 9811, 23, 17, 19, 45, 566, 113,...  \n",
              "...                                                  ...  \n",
              "24995  [404, 3, 1647, 3, 3054, 4, 6, 271, 29, 3630, 1...  \n",
              "24996  [15, 133, 16, 135, 2, 69, 998, 19, 2081, 1406,...  \n",
              "24997  [323, 16, 135, 405, 83, 1156, 21, 5225, 3, 163...  \n",
              "24998  [15, 160, 3203, 55, 16, 135, 2, 150, 106, 526,...  \n",
              "24999  [15, 19, 8634, 44, 4042, 1200, 11185, 886, 4, ...  \n",
              "\n",
              "[25000 rows x 5 columns]"
            ]
          },
          "execution_count": 20,
          "metadata": {},
          "output_type": "execute_result"
        }
      ],
      "source": [
        "test_df"
      ]
    },
    {
      "cell_type": "code",
      "execution_count": 21,
      "metadata": {
        "colab": {
          "base_uri": "https://localhost:8080/"
        },
        "id": "0Y3---BVrjuB",
        "outputId": "23de6e1e-3cb8-4180-f480-f2820906afde"
      },
      "outputs": [
        {
          "name": "stdout",
          "output_type": "stream",
          "text": [
            "Maximum review length: 2820\n",
            "Minimum review length: 11\n"
          ]
        }
      ],
      "source": [
        "print('Maximum review length: {}'.format(\n",
        "len(max((train_df['tokens']), key=len))))\n",
        "print('Minimum review length: {}'.format(\n",
        "len(min((train_df['tokens']), key=len))))"
      ]
    },
    {
      "cell_type": "code",
      "execution_count": 22,
      "metadata": {
        "colab": {
          "base_uri": "https://localhost:8080/"
        },
        "id": "od8mEWROZ7IG",
        "outputId": "cb81464a-ecb1-41ca-f4a7-79ff512b17de"
      },
      "outputs": [
        {
          "name": "stdout",
          "output_type": "stream",
          "text": [
            "Maximum review length: 2944\n",
            "Minimum review length: 8\n"
          ]
        }
      ],
      "source": [
        "print('Maximum review length: {}'.format(\n",
        "len(max((test_df['tokens']), key=len))))\n",
        "print('Minimum review length: {}'.format(\n",
        "len(min((test_df['tokens']), key=len))))"
      ]
    },
    {
      "cell_type": "code",
      "execution_count": 23,
      "metadata": {
        "id": "HbysWXb0ggT-"
      },
      "outputs": [],
      "source": [
        "max_words = 500\n",
        "dataset = sequence.pad_sequences(train_df['vec'], maxlen=max_words)\n",
        "y = train_df['score']"
      ]
    },
    {
      "cell_type": "code",
      "execution_count": 24,
      "metadata": {
        "id": "r5QDjV3MsHEd"
      },
      "outputs": [],
      "source": [
        "# X_train, X_val, y_train, y_val = train_test_split(dataset, y, test_size=0.3, stratify=y, random_state = 42)\n",
        "X_train = dataset\n",
        "y_train = y\n",
        "\n",
        "max_words = 500\n",
        "X_test = sequence.pad_sequences(test_df['vec'], maxlen=max_words)\n",
        "y_test = test_df['score']"
      ]
    },
    {
      "cell_type": "code",
      "execution_count": 25,
      "metadata": {
        "colab": {
          "base_uri": "https://localhost:8080/"
        },
        "id": "LkafaPRDuZqy",
        "outputId": "a99bba87-a2d1-477c-9d48-8f1d96624925"
      },
      "outputs": [
        {
          "name": "stdout",
          "output_type": "stream",
          "text": [
            "100555\n"
          ]
        }
      ],
      "source": [
        "vocab_size = len(vocab_dict) + 1\n",
        "print(vocab_size)"
      ]
    },
    {
      "cell_type": "markdown",
      "metadata": {
        "id": "nhePbhVzc9CN"
      },
      "source": [
        "Simple RNN"
      ]
    },
    {
      "cell_type": "code",
      "execution_count": 26,
      "metadata": {
        "colab": {
          "base_uri": "https://localhost:8080/"
        },
        "id": "grqoO75avHov",
        "outputId": "313e290e-e96d-4ff5-b9d0-2b22d122d487"
      },
      "outputs": [
        {
          "name": "stdout",
          "output_type": "stream",
          "text": [
            "Model: \"sequential\"\n",
            "_________________________________________________________________\n",
            " Layer (type)                Output Shape              Param #   \n",
            "=================================================================\n",
            " embedding (Embedding)       (None, 500, 32)           3217760   \n",
            "                                                                 \n",
            " simple_rnn (SimpleRNN)      (None, 50)                4150      \n",
            "                                                                 \n",
            " dense (Dense)               (None, 1)                 51        \n",
            "                                                                 \n",
            "=================================================================\n",
            "Total params: 3,221,961\n",
            "Trainable params: 3,221,961\n",
            "Non-trainable params: 0\n",
            "_________________________________________________________________\n",
            "None\n"
          ]
        }
      ],
      "source": [
        "from keras import Sequential\n",
        "from keras.layers import Embedding, Dense, Dropout, SimpleRNN\n",
        "embedding_size=32\n",
        "model_simple_rnn = Sequential()\n",
        "model_simple_rnn.add(Embedding(vocab_size, embedding_size, input_length=max_words))\n",
        "model_simple_rnn.add(SimpleRNN(50, input_shape=(X_train.shape[1],1), activation='tanh'))\n",
        "model_simple_rnn.add(Dense(1, activation='sigmoid'))\n",
        "model_simple_rnn.compile(loss='binary_crossentropy', \n",
        "             optimizer='adam', \n",
        "             metrics=['accuracy'])\n",
        "print(model_simple_rnn.summary())"
      ]
    },
    {
      "cell_type": "code",
      "execution_count": 27,
      "metadata": {
        "colab": {
          "base_uri": "https://localhost:8080/"
        },
        "id": "NfwabNuuwHTj",
        "outputId": "1b84bac3-2209-4447-eca3-5803a94d3bb9"
      },
      "outputs": [
        {
          "name": "stdout",
          "output_type": "stream",
          "text": [
            "Epoch 1/5\n",
            "782/782 [==============================] - 132s 167ms/step - loss: 0.5899 - accuracy: 0.6778\n",
            "Epoch 2/5\n",
            "782/782 [==============================] - 126s 161ms/step - loss: 0.3775 - accuracy: 0.8406\n",
            "Epoch 3/5\n",
            "782/782 [==============================] - 140s 179ms/step - loss: 0.2938 - accuracy: 0.8835\n",
            "Epoch 4/5\n",
            "782/782 [==============================] - 125s 159ms/step - loss: 0.2813 - accuracy: 0.8890\n",
            "Epoch 5/5\n",
            "782/782 [==============================] - 155s 198ms/step - loss: 0.1908 - accuracy: 0.9315\n"
          ]
        },
        {
          "data": {
            "text/plain": [
              "<keras.callbacks.History at 0x7f429c2cf290>"
            ]
          },
          "execution_count": 27,
          "metadata": {},
          "output_type": "execute_result"
        }
      ],
      "source": [
        "batch_size=32\n",
        "model_simple_rnn.fit(X_train, y_train, epochs = 5, batch_size=batch_size, verbose = 'auto')"
      ]
    },
    {
      "cell_type": "code",
      "execution_count": 28,
      "metadata": {
        "colab": {
          "base_uri": "https://localhost:8080/"
        },
        "id": "Dcgz9u2zwNr0",
        "outputId": "cde6165c-ddbc-4d8e-d583-76be5decc609"
      },
      "outputs": [
        {
          "name": "stdout",
          "output_type": "stream",
          "text": [
            "Test accuracy: 0.8183599710464478\n"
          ]
        }
      ],
      "source": [
        "scores = model_simple_rnn.evaluate(X_test, y_test, verbose=0)\n",
        "print('Test accuracy:', scores[1])"
      ]
    },
    {
      "cell_type": "code",
      "execution_count": 29,
      "metadata": {
        "colab": {
          "base_uri": "https://localhost:8080/"
        },
        "id": "4C4chhqDzE6h",
        "outputId": "5c0651ab-7d92-4153-ccdb-9c7d1e1bf704"
      },
      "outputs": [
        {
          "name": "stdout",
          "output_type": "stream",
          "text": [
            "INFO:tensorflow:Assets written to: basic_simple_rnn_model/assets\n"
          ]
        }
      ],
      "source": [
        "model_simple_rnn.save('basic_simple_rnn_model')"
      ]
    },
    {
      "cell_type": "markdown",
      "metadata": {
        "id": "Do2q70B3c_Qt"
      },
      "source": [
        "GRU"
      ]
    },
    {
      "cell_type": "code",
      "execution_count": 30,
      "metadata": {
        "colab": {
          "base_uri": "https://localhost:8080/"
        },
        "id": "yuaaYo0bdB27",
        "outputId": "4131e9f2-3718-4ea7-f415-c4b344b3e79f"
      },
      "outputs": [
        {
          "name": "stdout",
          "output_type": "stream",
          "text": [
            "Model: \"sequential_1\"\n",
            "_________________________________________________________________\n",
            " Layer (type)                Output Shape              Param #   \n",
            "=================================================================\n",
            " embedding_1 (Embedding)     (None, 500, 32)           3217760   \n",
            "                                                                 \n",
            " gru (GRU)                   (None, 50)                12600     \n",
            "                                                                 \n",
            " dense_1 (Dense)             (None, 1)                 51        \n",
            "                                                                 \n",
            "=================================================================\n",
            "Total params: 3,230,411\n",
            "Trainable params: 3,230,411\n",
            "Non-trainable params: 0\n",
            "_________________________________________________________________\n",
            "None\n"
          ]
        }
      ],
      "source": [
        "from keras.layers import GRU\n",
        "embedding_size=32\n",
        "model_gru = Sequential()\n",
        "model_gru.add(Embedding(vocab_size, embedding_size, input_length=max_words))\n",
        "model_gru.add(GRU(50, input_shape=(X_train.shape[1],1), activation='tanh'))\n",
        "model_gru.add(Dense(1, activation='sigmoid'))\n",
        "model_gru.compile(loss='binary_crossentropy', \n",
        "             optimizer='adam', \n",
        "             metrics=['accuracy'])\n",
        "print(model_gru.summary())"
      ]
    },
    {
      "cell_type": "code",
      "execution_count": 31,
      "metadata": {
        "colab": {
          "base_uri": "https://localhost:8080/"
        },
        "id": "D5S1iNwcdTQn",
        "outputId": "16baaf0a-2e9e-4a8d-f1b6-ed6b7f25b0f7"
      },
      "outputs": [
        {
          "name": "stdout",
          "output_type": "stream",
          "text": [
            "Epoch 1/5\n",
            "782/782 [==============================] - 271s 341ms/step - loss: 0.6804 - accuracy: 0.6526\n",
            "Epoch 2/5\n",
            "782/782 [==============================] - 229s 293ms/step - loss: 0.2997 - accuracy: 0.8773\n",
            "Epoch 3/5\n",
            "782/782 [==============================] - 228s 292ms/step - loss: 0.1562 - accuracy: 0.9437\n",
            "Epoch 4/5\n",
            "782/782 [==============================] - 228s 292ms/step - loss: 0.0852 - accuracy: 0.9711\n",
            "Epoch 5/5\n",
            "782/782 [==============================] - 274s 351ms/step - loss: 0.0493 - accuracy: 0.9850\n"
          ]
        },
        {
          "data": {
            "text/plain": [
              "<keras.callbacks.History at 0x7f429bfd37d0>"
            ]
          },
          "execution_count": 31,
          "metadata": {},
          "output_type": "execute_result"
        }
      ],
      "source": [
        "batch_size=32\n",
        "model_gru.fit(X_train, y_train, epochs = 5, batch_size=batch_size, verbose = 'auto')"
      ]
    },
    {
      "cell_type": "code",
      "execution_count": 32,
      "metadata": {
        "colab": {
          "base_uri": "https://localhost:8080/"
        },
        "id": "s2dxTLowdUvl",
        "outputId": "ff9163f6-d316-42b8-a2fe-866e7f706ad7"
      },
      "outputs": [
        {
          "name": "stdout",
          "output_type": "stream",
          "text": [
            "Test accuracy: 0.8468000292778015\n"
          ]
        }
      ],
      "source": [
        "scores = model_gru.evaluate(X_test, y_test, verbose=0)\n",
        "print('Test accuracy:', scores[1])"
      ]
    },
    {
      "cell_type": "code",
      "execution_count": 33,
      "metadata": {
        "colab": {
          "base_uri": "https://localhost:8080/"
        },
        "id": "NGdBJI3fdWMT",
        "outputId": "63b631fa-2e6e-4c57-b9ad-b9886d8a75eb"
      },
      "outputs": [
        {
          "name": "stdout",
          "output_type": "stream",
          "text": [
            "INFO:tensorflow:Assets written to: basic_gru_model/assets\n"
          ]
        },
        {
          "name": "stderr",
          "output_type": "stream",
          "text": [
            "WARNING:absl:<keras.layers.recurrent.GRUCell object at 0x7f429c08ab90> has the same name 'GRUCell' as a built-in Keras object. Consider renaming <class 'keras.layers.recurrent.GRUCell'> to avoid naming conflicts when loading with `tf.keras.models.load_model`. If renaming is not possible, pass the object in the `custom_objects` parameter of the load function.\n"
          ]
        }
      ],
      "source": [
        "model_gru.save('basic_gru_model')"
      ]
    },
    {
      "cell_type": "markdown",
      "metadata": {
        "id": "eaCtKfPgdZxP"
      },
      "source": [
        "LSTM"
      ]
    },
    {
      "cell_type": "code",
      "execution_count": 148,
      "metadata": {
        "colab": {
          "base_uri": "https://localhost:8080/"
        },
        "id": "eGgV_24VeXLO",
        "outputId": "f90a428d-1df2-4fd1-9827-034cbae8ddcb"
      },
      "outputs": [
        {
          "name": "stdout",
          "output_type": "stream",
          "text": [
            "Model: \"sequential_8\"\n",
            "_________________________________________________________________\n",
            " Layer (type)                Output Shape              Param #   \n",
            "=================================================================\n",
            " embedding_8 (Embedding)     (None, 500, 32)           3217760   \n",
            "                                                                 \n",
            " lstm_6 (LSTM)               (None, 50)                16600     \n",
            "                                                                 \n",
            " dense_8 (Dense)             (None, 1)                 51        \n",
            "                                                                 \n",
            "=================================================================\n",
            "Total params: 3,234,411\n",
            "Trainable params: 3,234,411\n",
            "Non-trainable params: 0\n",
            "_________________________________________________________________\n",
            "None\n"
          ]
        }
      ],
      "source": [
        "from keras.layers import LSTM\n",
        "embedding_size=32\n",
        "model_lstm = Sequential()\n",
        "model_lstm.add(Embedding(vocab_size, embedding_size, input_length=max_words))\n",
        "model_lstm.add(LSTM(50, input_shape=(X_train.shape[1],1), activation='tanh'))\n",
        "model_lstm.add(Dense(1, activation='sigmoid'))\n",
        "model_lstm.compile(loss='binary_crossentropy', \n",
        "             optimizer='adam', \n",
        "             metrics=['accuracy'])\n",
        "print(model_lstm.summary())"
      ]
    },
    {
      "cell_type": "code",
      "execution_count": 149,
      "metadata": {
        "colab": {
          "base_uri": "https://localhost:8080/"
        },
        "id": "Ktvnvh-wecrB",
        "outputId": "a199eaf5-52e2-4fe7-d0a1-824fb977e047"
      },
      "outputs": [
        {
          "name": "stdout",
          "output_type": "stream",
          "text": [
            "Epoch 1/5\n",
            "782/782 [==============================] - 248s 314ms/step - loss: 0.4395 - accuracy: 0.7908\n",
            "Epoch 2/5\n",
            "782/782 [==============================] - 248s 317ms/step - loss: 0.2208 - accuracy: 0.9182\n",
            "Epoch 3/5\n",
            "782/782 [==============================] - 248s 318ms/step - loss: 0.1339 - accuracy: 0.9554\n",
            "Epoch 4/5\n",
            "782/782 [==============================] - 246s 315ms/step - loss: 0.1240 - accuracy: 0.9598\n",
            "Epoch 5/5\n",
            "782/782 [==============================] - 245s 313ms/step - loss: 0.0673 - accuracy: 0.9788\n"
          ]
        },
        {
          "data": {
            "text/plain": [
              "<keras.callbacks.History at 0x7f4290455c90>"
            ]
          },
          "execution_count": 149,
          "metadata": {},
          "output_type": "execute_result"
        }
      ],
      "source": [
        "batch_size=32\n",
        "model_lstm.fit(X_train, y_train, epochs = 5, batch_size=batch_size, verbose = 'auto')"
      ]
    },
    {
      "cell_type": "code",
      "execution_count": 150,
      "metadata": {
        "colab": {
          "base_uri": "https://localhost:8080/"
        },
        "id": "exp0SBlqedkz",
        "outputId": "93bcc4a5-9f06-4816-d73c-f372528bb553"
      },
      "outputs": [
        {
          "name": "stdout",
          "output_type": "stream",
          "text": [
            "Test accuracy: 0.8389599919319153\n"
          ]
        }
      ],
      "source": [
        "scores = model_lstm.evaluate(X_test, y_test, verbose=0)\n",
        "print('Test accuracy:', scores[1])"
      ]
    },
    {
      "cell_type": "code",
      "execution_count": 151,
      "metadata": {
        "colab": {
          "base_uri": "https://localhost:8080/"
        },
        "id": "cSaX3oKDee5s",
        "outputId": "d610561e-1084-4f41-9633-87c680ee89ff"
      },
      "outputs": [
        {
          "name": "stderr",
          "output_type": "stream",
          "text": [
            "WARNING:absl:Found untraced functions such as lstm_cell_6_layer_call_fn, lstm_cell_6_layer_call_and_return_conditional_losses while saving (showing 2 of 2). These functions will not be directly callable after loading.\n"
          ]
        },
        {
          "name": "stdout",
          "output_type": "stream",
          "text": [
            "INFO:tensorflow:Assets written to: basic_lstm_model/assets\n"
          ]
        },
        {
          "name": "stderr",
          "output_type": "stream",
          "text": [
            "INFO:tensorflow:Assets written to: basic_lstm_model/assets\n",
            "WARNING:absl:<keras.layers.recurrent.LSTMCell object at 0x7f42816d83d0> has the same name 'LSTMCell' as a built-in Keras object. Consider renaming <class 'keras.layers.recurrent.LSTMCell'> to avoid naming conflicts when loading with `tf.keras.models.load_model`. If renaming is not possible, pass the object in the `custom_objects` parameter of the load function.\n"
          ]
        }
      ],
      "source": [
        "model_lstm.save('basic_lstm_model')"
      ]
    },
    {
      "cell_type": "markdown",
      "metadata": {
        "id": "zAS7llSS0ykP"
      },
      "source": [
        "Predictions"
      ]
    },
    {
      "cell_type": "code",
      "execution_count": 152,
      "metadata": {
        "id": "LF_FP7wo00bw"
      },
      "outputs": [],
      "source": [
        "predictions_simple_rnn = model_simple_rnn.predict(X_test)\n",
        "predictions_gru = model_gru.predict(X_test)\n",
        "predictions_lstm = model_lstm.predict(X_test)"
      ]
    },
    {
      "cell_type": "code",
      "execution_count": 153,
      "metadata": {
        "colab": {
          "base_uri": "https://localhost:8080/"
        },
        "id": "6WIokBn16jMf",
        "outputId": "83c605b3-ab35-499c-9866-853490e21b80"
      },
      "outputs": [
        {
          "name": "stdout",
          "output_type": "stream",
          "text": [
            "Total:  25000\n",
            "\n",
            "Simple RNN\n",
            "Correct:  20459\n",
            "Accuracy:  0.81836\n",
            "\n",
            "GRU\n",
            "Correct:  21170\n",
            "Accuracy:  0.8468\n",
            "\n",
            "LSTM\n",
            "Correct:  20974\n",
            "Accuracy:  0.83896\n"
          ]
        }
      ],
      "source": [
        "def to_binary(x):\n",
        "  if x < 0.5:\n",
        "    return 0\n",
        "  else:\n",
        "    return 1\n",
        "\n",
        "y_test_list = np.ndarray.tolist(pd.Series.to_numpy(y_test))\n",
        "y_test_list = list(map(lambda x: to_binary(x), y_test_list))\n",
        "\n",
        "predictions_list_simple_rnn = np.ndarray.tolist(predictions_simple_rnn)\n",
        "predictions_list_simple_rnn = [item for sublist in predictions_list_simple_rnn for item in sublist]\n",
        "predictions_list_simple_rnn = list(map(lambda x: to_binary(x), predictions_list_simple_rnn))\n",
        "\n",
        "predictions_list_gru = np.ndarray.tolist(predictions_gru)\n",
        "predictions_list_gru = [item for sublist in predictions_list_gru for item in sublist]\n",
        "predictions_list_gru = list(map(lambda x: to_binary(x), predictions_list_gru))\n",
        "\n",
        "predictions_list_lstm = np.ndarray.tolist(predictions_lstm)\n",
        "predictions_list_lstm = [item for sublist in predictions_list_lstm for item in sublist]\n",
        "predictions_list_lstm = list(map(lambda x: to_binary(x), predictions_list_lstm))\n",
        "\n",
        "total = 0\n",
        "correct_simple_rnn = 0\n",
        "correct_gru = 0\n",
        "correct_lstm = 0\n",
        "\n",
        "correct_review_simple_rnn = []\n",
        "correct_review_gru = []\n",
        "correct_review_lstm = []\n",
        "wrong_review_simple_rnn = []\n",
        "wrong_review_gru = []\n",
        "wrong_review_lstm = []\n",
        "\n",
        "total_review_len = {}\n",
        "correct_review_len_simple_rnn = {}\n",
        "correct_review_len_gru = {}\n",
        "correct_review_len_lstm = {}\n",
        "wrong_review_len_simple_rnn = {}\n",
        "wrong_review_len_gru = {}\n",
        "wrong_review_len_lstm = {}\n",
        "\n",
        "for i in range(len(y_test_list)):\n",
        "  if len(test_df['tokens'][i]) in total_review_len:\n",
        "    total_review_len[len(test_df['tokens'][i])] += 1\n",
        "  else:\n",
        "    total_review_len[len(test_df['tokens'][i])] = 1\n",
        "\n",
        "  if y_test_list[i] == predictions_list_simple_rnn[i]:\n",
        "    correct_simple_rnn += 1\n",
        "    correct_review_simple_rnn.append(i)\n",
        "    if len(test_df['tokens'][i]) in correct_review_len_simple_rnn:\n",
        "      correct_review_len_simple_rnn[len(test_df['tokens'][i])] += 1\n",
        "    else:\n",
        "      correct_review_len_simple_rnn[len(test_df['tokens'][i])] = 1\n",
        "  else:\n",
        "    wrong_review_simple_rnn.append(i)\n",
        "    if len(test_df['tokens'][i]) in wrong_review_len_simple_rnn:\n",
        "      wrong_review_len_simple_rnn[len(test_df['tokens'][i])] += 1\n",
        "    else:\n",
        "      wrong_review_len_simple_rnn[len(test_df['tokens'][i])] = 1\n",
        "\n",
        "  if y_test_list[i] == predictions_list_gru[i]:\n",
        "    correct_gru += 1\n",
        "    correct_review_gru.append(i)\n",
        "    if len(test_df['tokens'][i]) in correct_review_len_gru:\n",
        "      correct_review_len_gru[len(test_df['tokens'][i])] += 1\n",
        "    else:\n",
        "      correct_review_len_gru[len(test_df['tokens'][i])] = 1\n",
        "  else:\n",
        "    wrong_review_gru.append(i)\n",
        "    if len(test_df['tokens'][i]) in wrong_review_len_gru:\n",
        "      wrong_review_len_gru[len(test_df['tokens'][i])] += 1\n",
        "    else:\n",
        "      wrong_review_len_gru[len(test_df['tokens'][i])] = 1\n",
        "\n",
        "  if y_test_list[i] == predictions_list_lstm[i]:\n",
        "    correct_lstm += 1\n",
        "    correct_review_lstm.append(i)\n",
        "    if len(test_df['tokens'][i]) in correct_review_len_lstm:\n",
        "      correct_review_len_lstm[len(test_df['tokens'][i])] += 1\n",
        "    else:\n",
        "      correct_review_len_lstm[len(test_df['tokens'][i])] = 1\n",
        "  else:\n",
        "    wrong_review_lstm.append(i)\n",
        "    if len(test_df['tokens'][i]) in wrong_review_len_lstm:\n",
        "      wrong_review_len_lstm[len(test_df['tokens'][i])] += 1\n",
        "    else:\n",
        "      wrong_review_len_lstm[len(test_df['tokens'][i])] = 1\n",
        "  \n",
        "  total += 1\n",
        "\n",
        "print(\"Total: \", total)\n",
        "print(\"\\nSimple RNN\")\n",
        "print(\"Correct: \", correct_simple_rnn)\n",
        "print(\"Accuracy: \", correct_simple_rnn/total)\n",
        "print(\"\\nGRU\")\n",
        "print(\"Correct: \", correct_gru)\n",
        "print(\"Accuracy: \", correct_gru/total)\n",
        "print(\"\\nLSTM\")\n",
        "print(\"Correct: \", correct_lstm)\n",
        "print(\"Accuracy: \", correct_lstm/total)"
      ]
    },
    {
      "cell_type": "code",
      "execution_count": 154,
      "metadata": {
        "colab": {
          "base_uri": "https://localhost:8080/",
          "height": 1000
        },
        "id": "ReSzqQxDAn0C",
        "outputId": "cf0e7f4b-552d-4394-eba0-5e90c807e02d"
      },
      "outputs": [
        {
          "data": {
            "image/png": "[encoded data removed]",
            "text/plain": [
              "<Figure size 432x288 with 1 Axes>"
            ]
          },
          "metadata": {
            "needs_background": "light"
          },
          "output_type": "display_data"
        },
        {
          "data": {
            "image/png": "[encoded data removed]",
            "text/plain": [
              "<Figure size 432x288 with 1 Axes>"
            ]
          },
          "metadata": {
            "needs_background": "light"
          },
          "output_type": "display_data"
        },
        {
          "data": {
            "image/png": "[encoded data removed]",
            "text/plain": [
              "<Figure size 432x288 with 1 Axes>"
            ]
          },
          "metadata": {
            "needs_background": "light"
          },
          "output_type": "display_data"
        },
        {
          "data": {
            "image/png": "[encoded data removed]",
            "text/plain": [
              "<Figure size 432x288 with 1 Axes>"
            ]
          },
          "metadata": {
            "needs_background": "light"
          },
          "output_type": "display_data"
        },
        {
          "data": {
            "image/png": "[encoded data removed]",
            "text/plain": [
              "<Figure size 432x288 with 1 Axes>"
            ]
          },
          "metadata": {
            "needs_background": "light"
          },
          "output_type": "display_data"
        },
        {
          "data": {
            "image/png": "[encoded data removed]",
            "text/plain": [
              "<Figure size 432x288 with 1 Axes>"
            ]
          },
          "metadata": {
            "needs_background": "light"
          },
          "output_type": "display_data"
        },
        {
          "data": {
            "image/png": "[encoded data removed]",
            "text/plain": [
              "<Figure size 432x288 with 1 Axes>"
            ]
          },
          "metadata": {
            "needs_background": "light"
          },
          "output_type": "display_data"
        }
      ],
      "source": [
        "# See if review length is a factor that differentiates between different models' performances\n",
        "\n",
        "import matplotlib.pyplot as plt\n",
        "total_review_len = dict(sorted(total_review_len.items()))\n",
        "correct_review_len_simple_rnn = dict(sorted(correct_review_len_simple_rnn.items()))\n",
        "correct_review_len_gru = dict(sorted(correct_review_len_gru.items()))\n",
        "correct_review_len_lstm = dict(sorted(correct_review_len_lstm.items()))\n",
        "wrong_review_len_simple_rnn = dict(sorted(wrong_review_len_simple_rnn.items()))\n",
        "wrong_review_len_gru = dict(sorted(wrong_review_len_gru.items()))\n",
        "wrong_review_len_lstm = dict(sorted(wrong_review_len_lstm.items()))\n",
        "\n",
        "plt.bar(list(total_review_len.keys()), list(total_review_len.values()))\n",
        "plt.title('Total Review Lengths')\n",
        "plt.xlabel(\"Review length\")\n",
        "plt.ylabel(\"Number of reviews\")\n",
        "plt.show()\n",
        "\n",
        "plt.bar(list(correct_review_len_simple_rnn.keys()), list(correct_review_len_simple_rnn.values()))\n",
        "plt.title('Simple RNN - Correct Prediction Review Lengths')\n",
        "plt.xlabel(\"Review length\")\n",
        "plt.ylabel(\"Number of reviews\")\n",
        "plt.show()\n",
        "\n",
        "plt.bar(list(correct_review_len_gru.keys()), list(correct_review_len_gru.values()))\n",
        "plt.title('GRU - Correct Prediction Review Lengths')\n",
        "plt.xlabel(\"Review length\")\n",
        "plt.ylabel(\"Number of reviews\")\n",
        "plt.show()\n",
        "\n",
        "plt.bar(list(correct_review_len_lstm.keys()), list(correct_review_len_lstm.values()))\n",
        "plt.title('LSTM - Correct Prediction Review Lengths')\n",
        "plt.xlabel(\"Review length\")\n",
        "plt.ylabel(\"Number of reviews\")\n",
        "plt.show()\n",
        "\n",
        "plt.bar(list(wrong_review_len_simple_rnn.keys()), list(wrong_review_len_simple_rnn.values()))\n",
        "plt.title('Simple RNN - Wrong Prediction Review Lengths')\n",
        "plt.xlabel(\"Review length\")\n",
        "plt.ylabel(\"Number of reviews\")\n",
        "plt.show()\n",
        "\n",
        "plt.bar(list(wrong_review_len_gru.keys()), list(wrong_review_len_gru.values()))\n",
        "plt.title('GRU - Wrong Prediction Review Lengths')\n",
        "plt.xlabel(\"Review length\")\n",
        "plt.ylabel(\"Number of reviews\")\n",
        "plt.show()\n",
        "\n",
        "plt.bar(list(wrong_review_len_lstm.keys()), list(wrong_review_len_lstm.values()))\n",
        "plt.title('LSTM - Wrong Prediction Review Lengths')\n",
        "plt.xlabel(\"Review length\")\n",
        "plt.ylabel(\"Number of reviews\")\n",
        "plt.show()"
      ]
    },
    {
      "cell_type": "code",
      "execution_count": 155,
      "metadata": {
        "colab": {
          "base_uri": "https://localhost:8080/",
          "height": 573
        },
        "id": "Oc9udeh5cBWY",
        "outputId": "89183014-23c2-4462-edb4-66f3e4b70c0c"
      },
      "outputs": [
        {
          "data": {
            "image/png": "[encoded data removed]",
            "text/plain": [
              "<Figure size 432x288 with 1 Axes>"
            ]
          },
          "metadata": {
            "needs_background": "light"
          },
          "output_type": "display_data"
        },
        {
          "data": {
            "image/png": "[encoded data removed]",
            "text/plain": [
              "<Figure size 432x288 with 1 Axes>"
            ]
          },
          "metadata": {
            "needs_background": "light"
          },
          "output_type": "display_data"
        }
      ],
      "source": [
        "correct_review_gru_set = set(correct_review_gru)\n",
        "gru_corrected = []\n",
        "\n",
        "correct_review_lstm_set = set(correct_review_lstm)\n",
        "lstm_corrected = []\n",
        "\n",
        "for i in wrong_review_simple_rnn:\n",
        "  if i in correct_review_gru_set:\n",
        "    gru_corrected.append(i)\n",
        "  if i in correct_review_lstm_set:\n",
        "    lstm_corrected.append(i)\n",
        "\n",
        "gru_corrected_review_len = {}\n",
        "for i in gru_corrected:\n",
        "  review_len = len(test_df['tokens'][i])\n",
        "  if review_len in gru_corrected_review_len:\n",
        "    gru_corrected_review_len[review_len] += 1\n",
        "  else:\n",
        "    gru_corrected_review_len[review_len] = 1\n",
        "\n",
        "lstm_corrected_review_len = {}\n",
        "for i in lstm_corrected:\n",
        "  review_len = len(test_df['tokens'][i])\n",
        "  if review_len in lstm_corrected_review_len:\n",
        "    lstm_corrected_review_len[review_len] += 1\n",
        "  else:\n",
        "    lstm_corrected_review_len[review_len] = 1\n",
        "\n",
        "gru_corrected_review_len = dict(sorted(gru_corrected_review_len.items()))\n",
        "lstm_corrected_review_len = dict(sorted(lstm_corrected_review_len.items()))\n",
        "\n",
        "plt.bar(list(gru_corrected_review_len.keys()), list(gru_corrected_review_len.values()))\n",
        "plt.title('Simple RNN Wrong Prediction & GRU Corrected Review Lengths')\n",
        "plt.xlabel(\"Review length\")\n",
        "plt.ylabel(\"Number of reviews\")\n",
        "plt.show()\n",
        "\n",
        "plt.bar(list(lstm_corrected_review_len.keys()), list(lstm_corrected_review_len.values()))\n",
        "plt.title('Simple RNN Wrong Prediction & LSTM Corrected Review Lengths')\n",
        "plt.xlabel(\"Review length\")\n",
        "plt.ylabel(\"Number of reviews\")\n",
        "plt.show()"
      ]
    },
    {
      "cell_type": "code",
      "execution_count": 156,
      "metadata": {
        "colab": {
          "base_uri": "https://localhost:8080/"
        },
        "id": "_nJWJR5plFlI",
        "outputId": "ec31b3e7-d299-43b6-fc43-6d3862ecd743"
      },
      "outputs": [
        {
          "name": "stdout",
          "output_type": "stream",
          "text": [
            "Review #2: it seems ever since 1982 , about every two or three years we get a movie that claims to be `` the next officer and a gentleman . `` there has yet to be one movie that has lived up to this claim and this movie is no different . < br / > < br / > we get the usual ripped off scenes from oaag ( `` i want you dor , '' the instructor gives the richard gere character his overdose of drills in hopes he 'll quit , the gere character comes back for the girl , the gere character realizes the instructor is great , etc . ) and this movie is as predictable as the sun rising in the east and is horribly miscast on top . costner plays his usual `` wise teacher '' character , the only character he can play , and you really get a sense of his limited acting abilities here . kutcher is terrible in the richard gere character , just miscast with acting skills barely a notch above keanu reeves . < br / > < br / > the main problem with this oaag wannabe is the two main characters are so amazingly one-dimensional , you never care for either in the least and when kutcher 's character finally turns around ( just like gere did in oaag ) you just go `` so what ? the movie leaves no plot point unturned and seems to never end as if to say `` oh wait , we forgot to close out the girlfriend story , or the what happens after he graduates story , or the other six plot points in the movie . . . `` what 's more baffling is the great `` reviews '' i see here . the general public 's opinions never cease to amaze me .\n",
            "No. of tokens: 316, Score: 0\n",
            "\n",
            "Review #5: i wish i knew what to make of a movie like this . it seems to be divided into two parts -- action sequences and personal dramas ashore . it follows ashton kutsher through survival swimmer school , guided by master chief kevin costner , then to alaska where a couple of spectacular rescues take place , the last resulting in death . < br / > < br / > i must say that the scenes on the beach struck me as so stereotypical in so many ways that they should be barnacle encrusted . a typical bar room fight between navy guys and coast guardsmen ( `` puddle pirates '' ) . the experienced old timer costner who is , as an elderly bar tender tells him , `` married to the coast guard . `` the older chief who `` keeps trying to prove to himself that he 's still nineteen . `` the neglected ex wife ashore to whom kostner pays a farewell visit . the seemingly sadistic demands placed on the swimmers by the instructors , all in pursuit of a loftier goal . the gifted young man hobbled by a troubled past . < br / > < br / > the problem is that we 've seen it all before . if it 's kevin costner here , it 's clint eastwood or john wayne or lou gosset jr . or vigo mortenson or robert deniro elsewhere . and the climactic scene has elements drawn shamelessly from `` the perfect storm '' and `` dead calm . `` none of it is fresh and none of the old stereotyped characters and situations are handled with any originality . < br / > < br / > it works best as a kind of documentary of what goes on in the swimmer 's school and what could happen afterward and even that 's a little weak because we do n't get much in the way of instruction . it 's mostly personal conflict , romance , and tension about washing out . < br / > < br / > it 's a shame because the u . s . coast guard is rather a noble outfit , its official mission being `` the safety of lives and property at sea . `` in war time it is transferred to the navy department and serves in combat roles . in world war ii , the coast guard even managed to have a medal of honor winner in its ranks . < br / > < br / > but , again , we do n't learn much about that . we do n't really learn much about anything . the film devolves into a succession of visual displays and not too much else . a disappointment .\n",
            "No. of tokens: 473, Score: 0\n",
            "\n",
            "Review #45: this was a decent movie for the first half . too many cheap boo ! moments but the tension builds , the bad guys are creepy and everything seems to be setting itself up nicely . the kids are not particularly deep but hey , that works for teens . < br / > < br / > then it just gets ridiculous and tries way too hard- the `` why in the world would he/they do that ? '' moments overwhelm anyone 's capacity for suspension of disbelief , the twist involves too many ridiculous coincidences , and the title comes from a late attempt to philosophize some meaning into the film that goes nowhere and is quickly dropped . there was laughter in the theater at moments that were in no way supposed to be funny . < br / > < br / > great premise but just badly written and does n't hold together . some very nice shots but they 're hard to enjoy while you 're rolling your eyes .\n",
            "No. of tokens: 176, Score: 0\n",
            "\n",
            "Review #46: acolytes presents an interesting mix of original concepts in `` screaming teen '' cliché horror with a more thriller-like pacing . in some ways acolytes is very successful , but in many other ways the film fails miserably . < br / > < br / > overall acolytes avoided the typical archetypes of the naivety and innocence of youth of endless horror films in the like of cabin fever , texas chainsaw massacre , and countless other films where unsuspecting and relatively naive and innocent teenagers , have sex , run around screaming and one-by-one are plucked off by some sort of monster . instead this innocence is replaced with pride , retaliation , and arrogance . the characters had several opportunities to save themselves from immanent death and despair , but failed to do so due to their own personal demons . in the end you were left with the feeling that there were no ( and perhaps are no ) innocent victims . < br / > < br / > as the name implies , the film also touches greatly on following a leader or authority . this was used in a direct sense of if the main character would become like the serial killer and was also used less directly throughout the film . following a central figure is a reoccurring theme throughout the film . < br / > < br / > through all this , the film makers also incorporated a lot of cliché , which i suspect was intentional and gave the film a unique mixture of depth as well as shallowness which i found intriguing . this , perhaps inadvertently , plays well with the characters who are , at first appearance very shallow but as the story unfolds it becomes obvious that they are , at least the two main male characters , quite complex . < br / > < br / > technically the film has a lot of problems however . the cinematography , which is typically regarded highly , i find rather sophomoric and over-stylized , utilizing formulaic 2/3 approaches far too rigidly . many transitions i felt were also over-stylized . the use of symbolism was not only vague , but also greatly over used . < br / > < br / > the plot was poorly planned and relied exclusively on misinformation in order to achieve a rather hokey twist ending , which was poorly resolved and leaves viewers confused . methods used to resolve the climax are cheap and ill-prepared , motivations are routinely unclear , and major plot points remain untied in the end . < br / > < br / > overall , the film 's relative originality , themes and thesis are lost in a maze of poor technical execution , over-stylized imagery , unclear motives , obtuse and unnecessary symbolism and cheap twists maintained only by a lack of or entirely incorrect information . < br / > < br / > if the film were better executed , it would have been excellent . however , acolytes receives only two stars in my opinion .\n",
            "No. of tokens: 530, Score: 0\n",
            "\n",
            "Review #85: i have no idea how anyone can give this movie high marks . i did n't rent it thinking it was the next great horror flick , the next great horror spoof , or the next great low-budget horror spoof . obviously , this is n't meant to scare , but one fatal flaw with the production entirely sapped the joy out of the viewing experience . the sound editing was horrible . i had to work the volume control the entire movie . you can imagine how difficult it is to get into something - even a low-budget spoof - when you 're either turning the volume up or down , or trying to anticipate the next time you have to do so . the regular dialogue is very low , and all screams , noises , etc . , are very loud . we 're not talking about toggling between 5 and 7 on the volume control , finding a happy medium at 6 . we 're talking toggling between 2 and 9 on the volume where it is virtually impossible to leave the volume alone . again , this movie might be a decent example of what it is meant to be , but you 're going to be spending so much time adjusting your volume control that you 'll never have the chance to enjoy it .\n",
            "No. of tokens: 231, Score: 0\n",
            "\n",
            "Review #90: the only reason this movie is not given a 1 ( awful ) vote is that the acting of both ida lupino and robert ryan is superb . ida lupino who is lovely , as usual , becomes increasingly distraught as she tries various means to rid herself of a madman . robert ryan is terrifying as the menacing stranger whose character , guided only by his disturbed mind , changes from one minute to the next . seemingly simple and docile , suddenly he becomes clever and threatening . ms . lupino 's character was in more danger from that house she lived in and her own stupidity than by anyone who came along . she could not manage to get out of her of her own house : windows did n't open , both front and back doors locked and unlocked from the inside with a key . you could not have designed a worse fire-trap if you tried . she did not take the precaution of having even one extra key . nor could she figure out how to summon help from nearby neighbors or get out of her own basement while she was locked in and out of sight of her captor . i do n't know what war her husband was killed in , but if it was world war ii , the furnishings in her house , the styles of the clothes , especially the children and the telephone company repairman 's car are clearly anachronistic . i recommend watching this movie just to see what oddities you can find .\n",
            "No. of tokens: 267, Score: 0\n",
            "\n",
            "Review #100: i was looking forward to this movie . trustworthy actors , interesting plot . great atmosphere then ? ? ? ? ? if you are going to attempt something that is meant to encapsulate the meaning of life . first . know it . ok i did not expect the directors or writers to actually know the meaning but i thought they may have offered crumbs to peck at and treats to add fuel to the fire-which ! they almost did . things i did n't get . a woman wandering around in dark places and lonely car parks alone-oblivious to the consequences . great riddles that fell by the wayside . the promise of the knowledge therein contained by the original so-called criminal . i had no problem with the budget and enjoyed the suspense . i understood and can wax lyrical about the fool and found adrian pauls role crucial and penetrating and then ? ? ? ? ? basically the story line and the script where good up to a point and that point was the last 10 minutes or so . what ? run out of ideas ! such a pity that this movie had to let us down so badly . it may not comprehend the meaning and i really did not expect the writers to understand it but i was hoping for an intellectual , if not spiritual ride and got a bump in the road\n",
            "No. of tokens: 242, Score: 0\n",
            "\n",
            "Review #104: this movie had a very unique effect on me : it stalled my realization that this movie really sucks ! it is disguised as a `` thinker 's film '' in the likes of memento and other jewels like that , but at the end , and even after a few minutes , you come to realize that this is nothing but utter pretentious cr4p . probably written by some collage student with friends to compassionate to tell him that his writing sucks . the whole idea is i do n't even know if it tried to scratch on the supernatural , or they want us to believe that because someone fills your mind ( a very weak one , btw ) with stupid `` riddles '' , the kind you learn on elementary school recess , you suddenly come to the `` one truth '' about everything , then you have to kill someone and confess . ! ! ! what ? how , what , why , why ? is just like saying that to make a cake , just throw a bunch of ingredients , and add water forgot about cooking it ? i guess these guys forgot to , not explain , but present the mechanism of why was this happening ? you have to do that when you present a story which normal , everyday acts ( lie solving riddle rhymes ) start to have an abnormal effect on people . acting was horrible , with that girl always trying to look cute at the camera , and the guy from highlanders , the series , acting up like the though heavy metal record store ( yeah , they 're all real though s-o-b 's ) . the `` menacing '' atmosphere , with the `` oh-so-clever '' riddles ( enter the 60 's series of batman and robin , with guest appearance of the riddle ) and the crazies who claim to have `` the knowledge '' behind that smirk on their faces just horrible , horrible . < br / > < br / > i 'm usually very partial about low budget movies , and tend to root for the underdog by giving them more praise than they may deserve , in lieu of their constrictions , you know , but this is just an ugly excuse for a movie that will keep you wanting to be good for an hour and a half , and at the end you will just lament that you fell for it .\n",
            "No. of tokens: 427, Score: 0\n",
            "\n",
            "Review #139: when i was young , i 'd get up early every saturday morning not to watch cartoons but to turn on the local channel for what was called 'kung fu theatre . ' it was n't as if these films were works of art . it was n't as if these films all came from china , japan , korea , or any country in particular ; if the story had to do with fighting  be it swordplay or fisticuffs  and if the fighting did n't resemble much of anything going on in any american gym class , then that was good enough . it was n't as if they were really even very good . they were just great action flicks with incredibly over-dramatic music where the hero reaped his vengeance over a whole host of bad guys , and then the credits would roll . < br / > < br / > '' sword in the moon '' is much like these films of my youth , arguably a bit of a thematic throwback given a welcome twist by muddying the characters up enough that it becomes increasingly difficult to tell the bad guys from the good . < br / > < br / > yun ( cho jae hyun ) is known throughout the kingdom as 'the human butcher . ' he kills quickly and mercilessly on behalf of the chun dynasty , the chief bodyguard of an emperor who spared his life and the life of his men in exchange for his service . however , an equally merciless rebel and his lovely sidekick appear in the countryside and start murdering imperial ministers , and yun agrees to find these rebels and kill them . his task becomes one of personal discovery when he learns that the two rebels are choi ( a friend from his past ) and his former love , shi yeong . < br / > < br / > sadly , `` sword '' does n't have much to distinguish itself from other action films . some stunning cinematography is nearly entirely wasted on shoddy editing with portions of the film put together so loosely its hard to believe that what inevitably made it to the film was what anyone intended . while the atmosphere and story tend to gravitate toward a dark mood , the tone is almost sacrificed to the never-ending parade of flashbacks as each of the main characters is given a healthy story arc . what should 've been a quick and easy action film gets weighed down by far too much personal baggage , and the film suffers as a result . < br / > < br / > i 've read that this film marks korea 's first real foray into the world of art-house action pieces along the likes of `` crouching tiger , hidden dragon . `` next time , i 'd strongly suggest that the producers stick with a little more 'martial ' and a little less 'art . '\n",
            "No. of tokens: 513, Score: 0\n",
            "\n",
            "Review #141: her bit-part as a masseuse , in the lurid sequel to the original 'emmannuelle ' , evidently gave someone the bright idea of putting a spanner in the works of the french soft-core series ' gambit by inverting the caucasian carnality and casting javan stunner gemser in a leading role in this , the rather tame first of a series of sexploiters that became increasingly depraved as sleazier directors took on in-name-only sequels . < br / > < br / > someone ( and surely not the english-language over-haulers warner ? ) was also anticipating an 'a star is born ' type meteoric rise out the results , judging by the way the actress is credited merely with the eponymous moniker of the on-screen heroine , albeit with a couple of consonants sacrificed as insurance against litigation . < br / > < br / > gemser 's tenure in the series saw her as an 'intrepid ' photographer , allowing of course for all manner of subsequent globe-trotting adventures . but , whilst she may well have been one the very most beautiful actresses on the screen at that time , any thespian talent that may have been there to discern becomes mired in the same sort of unfeasibly facile cogitation ( `` i have to confess that since i 've been in africa , i find white skin less appealing . . . `` ) that was to be found in the french films . < br / > < br / > and in this particular entry , much to the consternation of the raincoat brigade the essence of on-screen carnality is as much to be found in puerile symbolism ( pumping engine pistons ! ) as it is in prosaic couplings - although naturally these include generous dollops of 'exploratory ' lesbianism . connoiseurs of kitsch are however guaranteed a continuous stream of aural delights , what with such epithets of ethnographic wisdom as `` i do nothing to be a perfect black , she does everything to be a perfect white '' .\n",
            "No. of tokens: 349, Score: 0\n",
            "\n",
            "Review #161: this film is about the complicated friendship , romance and deceit between two men and two women during the world war ii . < br / > < br / > a lot of effort has been put to make `` the edge of love '' look the right period . however , i find this effort too excessive , particularly in terms of the tone of the colours . most of the first half of the film is processed so much to have a strong bluish tone . it 's hard to make out who 's who in this tone . < br / > < br / > another detrimental point is the fancy use of image splitting lens . there are many scenes that have three or four images of the same thing , such as three keira knightley smiling face or four pairs of arms in embrace . that simply makes the film confusing and hard to follow , instead of being artistic . < br / > < br / > as for the plot , it is plain boring . the way the story unfolds is not engaging at all . sienna miller 's unstable character is annoying . in fact all the main characters are annoying and unlikeable . keira knightley 's accent is impossible to understand , making it a further impediment to understanding the plot . < br / > < br / > i strongly advise avoiding `` the edge of love '' , unless you watch a film only to appreciate great costumes , nice sets and lighting .\n",
            "No. of tokens: 270, Score: 0\n",
            "\n",
            "Review #181: an interesting period picec showing us what was amazing in 1938 . gosh , ma , a fake accident ring suing for $ 25,000 ! ! ! i guess projected into the 21st century it would amount to a lot of money . the acting would amount to pure 21st century ham . nice to see the president as a hard-working newcomer .\n",
            "No. of tokens: 63, Score: 0\n",
            "\n",
            "Review #187: and i still do n't know where the hell this movie is going ? i mean really , what is this movie about ? is it about demonstrating sean connery 's complete lack of arabic ? is it about showing that if he could play the role of a moroccan warlord then he was a natural to play the role of ramirez in highlander ? why was teddy roosevelt even in this movie ? why was there so much sand that was put to so little use ? where was there so much table slapping ? why did teddy ignore the japanese guy who he was shooting archery with ? did he realize the man was japanese ? why was no no credible excuse given for connery 's accent ? at least jean claude van damme has an excuse for his french accent , whether it be being raised by french nuns in hong kong ( double impact ) , being raised on the bayou in louisiana ( universal soldier ) , or having a french mother and being raised in indochina ( i can not even remember the name of that movie ) ? can anyone explain this ?\n",
            "No. of tokens: 200, Score: 0\n",
            "\n",
            "Review #191: i never heard of this film when it first came out . it must have sunk immediately . : o ) i saw it on cable while sick in hospital so i hardly had enough energy to watch it , let alone turn the channel . better choice than the style channel . ; 0 ( . filmed on location , this travelogue should have been on the travel channel . the plot is recycled from ship board farces of the thirties and forties . the cast seems to have been recycled from the fifties . donald o'connor , star of musicals and edward mulhare as a card shark . as to the main cast , walter matthau is still playing the same part as he did in guys and dolls or was it the one about the orphan girl ? wiseacre irresponsible gambler and rounder . but it just does n't take with a man of his age . as to jack lemmon , he plays his part so straight , he can hardly dip and glide when dancing . and as mentioned , dyan cannon is outstandingly attractive as another swindler sailing with her mother who thinks walter is rich , while he thinks she is rich . elaine stritch plays dyan 's mother , another retread from the fifties . the most fun is the running feud between brent spiner as the domineering and snotty cruise director who immediately spots walter as a poor dancer , and spends his time trying to get him dismissed so he will have to pay for his free passage . in the end , though he receives his comeuppances . meanwhile jack mopes about , meets an attractive woman , with mutual attraction , but their affair is broken up by walter 's lies that jack is a doctor , when he was actually a retired department store buyer . but finally , the two men take to the sea in a rubber boat to intercept her seaplane and all is well . there does not seem to be any principal player under the age of fifty .\n",
            "No. of tokens: 357, Score: 0\n",
            "\n",
            "Review #197: i was a hippie age 22 in 1965 , have seen the play 5 times , have 2 versions of the music , and have read the script many times . maybe taken as an separate thing , the movie is ok , but as an adoption of the play , it 's terrible . < br / > < br / > first the good . the songs are sung well , and the production values are pretty good . the homosexual implications in black boys , white boys is cute . the claude/berger switch was interesting . hair is a fluid production , and constant changes in it are inherent provided the basic spirit of it is retained . < br / > < br / > but the basic spirit was very much distorted . it seemed like all the producer wanted was to sing certain songs , and fit the story-line to them regardless of what that did to the original intent of the play . < br / > < br / > claude , sheila , and hud were presented as a selfish brats who could care less about anyone outside their tribe . claude destroyed sheila 's parents party ( it 's hard to believe that she smiled while her parents were being hurt ) , and repeatedly stole cars . sheila stole the soldier 's clothes and car . then she left him in the middle of the desert where he would certainly sunburn badly , probably be busted in rank , and could likely die on that lonely nevada road . good fun . and hud found it fine to break his son 's heart while yelling at his ex . this is not what hippies were like , not what the play described , and is directly opposite to a love generation . < br / > < br / > i 've never seen a hippie beg for money . the point was to be self-sufficient outside the capitalist system , not beg from it . < br / > < br / > after berger is thrown in jail for ruining sheila 's party and claude offers to bail some out , berger insists on being bailed instead , with no better plan for bailing the rest that hitting on sheila 's parents , and then hitting on his own mommy . < br / > < br / > '' be in '' has always been a very spiritual point , but here it is wasted on silly brides floating around . even if this is part of his trip , it ruins a beautiful song . i know they 're contrasting `` floating in space '' with the army . but again , it totally ruins a beautiful song . < br / > < br / > while sheila and claude are skinny dipping , berger steals their clothes , laughing `` it was fun man '' even after he could see both were very annoyed . then a little later , berger does one thing that no hippie ever does . he hits claude . terrible . < br / > < br / > then they have the perfect opportunity to sing `` starshine '' at night in some beautiful sf spot with the stars twinkling down , maybe working into an inventive duet . instead , the whole tribe sings it in the blazing sun speeding down the road in a convertible ( stolen of course ) . < br / > < br / > i was vastly disappointed with the movie in 1979 , and i like it even less now . i think it would have been possible to do a reasonably close adoption of the show , but this ai n't it .\n",
            "No. of tokens: 645, Score: 0\n",
            "\n",
            "Review #198: when a friend once lambasted me for my first movie ( a pretty bad videotaped affair ) , i argued that i could grow ; orson welles ' first movie , indeed , was even worse . he challenged me that it could n't be , so i pulled out the criterion laserdisc of ( i think ) citizen kane and played hearts of age . my friend lasted just a few minutes before conceding the point . < br / > < br / > there is a little humor in this short , but it 's basically as pretentious as ( and perhaps a collegiate answer to ) blood of a poet and other avant garde films of the time . it is what it is : a succession of images with a vague theme , and unless you really enjoy any footage of welles ( in heavy makeup , to boot ) , this is n't really even worth tracking down .\n",
            "No. of tokens: 165, Score: 0\n",
            "\n",
            "Review #202: this looks so good on paper - matt damon , lawrence fishbourne , jean reno , nice right ? and a heist with $ 42 million - sounds like a kick-ass crime movie . < br / > < br / > big disappointment - i reckon the stars got all the money because the production values on this are lousy . < br / > < br / > but more than that it the pseudo reservoir dogs atmosphere when the easy crime goes wrong . it 's very much made for tv stuff . < br / > < br / > all in all hugely disappointing - it score points for being what it is - but loses them massively for being , bluntly , not very interesting at all . . .\n",
            "No. of tokens: 136, Score: 0\n",
            "\n",
            "Review #203: armored < br / > < br / > the best part about driving an armored vehicle is that if any bums approach you at a red light asking for money , you can shoot them in the face . < br / > < br / > and while the armoured guards in this thriller are n't using their protective power to purge the drifter population , they are using their position to fleece their employer . < br / > < br / > when newcomer ty ( columbus short ) lands a job with an armored trunk company , he feels like he has found his lot in life . unfortunately , however , when he discovers that his co- workers ( matt dillon , jean reno and laurence fishburne ) are plotting to take the $ 42 m shipment for themselves , ty must fortify himself  and the funds  inside the armored truck . < br / > < br / > a tedious caper with a plodding plot and phoned-in performances , armored is an utterly forgettable film . < br / > < br / > besides , if you really want to jack millions , it 's a lot simpler to just disguise yourself as an atm . ( red light )\n",
            "No. of tokens: 221, Score: 0\n",
            "\n",
            "Review #206: a heist film with jean reno , matt damon and laurence fishburne . . . sounds great on paper ? i suspect it must have done when someone green lighted the production of this movie but the end product is terrible ! < br / > < br / > the story is dull , the action boring , and , for a film that is only 88 minutes it seems to just drag on . i could feel my life slipping away and was sure there was something better i should have been doing . . . any paint to watch dry somewhere perhaps ? < br / > < br / > sigh . i 'm a huge fan of jean reno , but what on earth was he thinking when he signed up to this ? there are so many other great action movies around . . . go watch one of those and let this movie be best forgotten .\n",
            "No. of tokens: 164, Score: 0\n",
            "\n",
            "Review #235: first of all , i was n't sure who this film was aimed at - it seemed like a story for kids but had stuff in it kids would n't understand and find boring . there was n't really much to it , bruce willis was n't stretched as an actor at all . he did a lot of glancing to the side with that half smile of his - unless you are a big fan of his i would n't bother . and if it 's the story you 're interested in ( guy who seems to have it all but is lacking emotionally is taught lessons from a child ) , i would go to see about a boy . it has everything this film lacked , humor , sadness and reality .\n",
            "No. of tokens: 135, Score: 0\n",
            "\n"
          ]
        }
      ],
      "source": [
        "for i in gru_corrected[:20]:\n",
        "  review_len = len(test_df['tokens'][i])\n",
        "  print(\"Review #\" + str(i) + \": \" + ' '.join(test_df['tokens'][i]))\n",
        "  print(\"No. of tokens: \" + str(review_len) + \", Score: \" + str(test_df['score'][i]))\n",
        "  print()"
      ]
    },
    {
      "cell_type": "code",
      "execution_count": 157,
      "metadata": {
        "colab": {
          "base_uri": "https://localhost:8080/",
          "height": 295
        },
        "id": "ncTZHK-9i-np",
        "outputId": "8e8b3f0b-7be4-491b-abd2-cf63102d3e3d"
      },
      "outputs": [
        {
          "data": {
            "image/png": "[encoded data removed]",
            "text/plain": [
              "<Figure size 432x288 with 1 Axes>"
            ]
          },
          "metadata": {
            "needs_background": "light"
          },
          "output_type": "display_data"
        }
      ],
      "source": [
        "correct_review_simple_rnn_set = set(correct_review_simple_rnn)\n",
        "simple_rnn_corrected = [] # Check reviews that GRU got wrong that simple rnn got right\n",
        "\n",
        "for i in wrong_review_gru:\n",
        "  if i in correct_review_simple_rnn_set:\n",
        "    simple_rnn_corrected.append(i)\n",
        "\n",
        "simple_rnn_corrected_review_len = {}\n",
        "for i in simple_rnn_corrected:\n",
        "  review_len = len(test_df['tokens'][i])\n",
        "  if review_len in simple_rnn_corrected_review_len:\n",
        "    simple_rnn_corrected_review_len[review_len] += 1\n",
        "  else:\n",
        "    simple_rnn_corrected_review_len[review_len] = 1\n",
        "\n",
        "plt.bar(list(simple_rnn_corrected_review_len.keys()), list(simple_rnn_corrected_review_len.values()))\n",
        "plt.title('GRU Wrong Prediction & Simple RNN Corrected Review Lengths')\n",
        "plt.xlabel(\"Review length\")\n",
        "plt.ylabel(\"Number of reviews\")\n",
        "plt.show()"
      ]
    },
    {
      "cell_type": "code",
      "execution_count": 158,
      "metadata": {
        "colab": {
          "base_uri": "https://localhost:8080/"
        },
        "id": "HqHFtbVelOTX",
        "outputId": "456865f0-8a49-4e8e-b57d-afd47b15224a"
      },
      "outputs": [
        {
          "name": "stdout",
          "output_type": "stream",
          "text": [
            "Review #0: once again mr . costner has dragged out a movie for far longer than necessary . aside from the terrific sea rescue sequences , of which there are very few i just did not care about any of the characters . most of us have ghosts in the closet , and costner 's character are realized early on , and then forgotten until much later , by which time i did not care . the character we should really care about is a very cocky , overconfident ashton kutcher . the problem is he comes off as kid who thinks he 's better than anyone else around him and shows no signs of a cluttered closet . his only obstacle appears to be winning over costner . finally when we are well past the half way point of this stinker , costner tells us all about kutcher 's ghosts . we are told why kutcher is driven to be the best with no prior inkling or foreshadowing . no magic here , it was all i could do to keep from turning it off an hour in .\n",
            "\n",
            "Review #9: david bryce 's comments nearby are exceptionally well written and informative as almost say everything i feel about darling lili . this massive musical is so peculiar and over blown , over produced and must have caused ruptures at paramount in 1970 . it cost 22 million dollars ! that is simply irresponsible . darling lili must have been greenlit from a board meeting that said `` hey we got that pink panther guy and that sound of music gal . . . lets get this too '' and handed over a blank cheque . the result is a hybrid of gigi , zeppelin , half a sixpence , some mgm 40s song and dance numbers of a style ( daisies and boaters ! ) so hopelessly old fashioned as to be like musical porridge , and mata hari dramatics . the production is colossal , lush , breathtaking to view , but the rest : the ridiculous romance , julie looking befuddled , hudson already dead , the mistimed comedy , and the astoundingly boring songs deaden this spectacular film into being irritating . lili is like a twee 1940s mega musical with some vulgar bits to spice it up . star ! released the year before sadly crashed and now is being finally appreciated for the excellent film is genuinely is . . . and andrews looks sublime , mature , especially in the last half hour . . . . . . but lili is poppins and dolly frilly and i believe really killed off the mega musical binge of the 60s . . . . . and made andrews look like poppins again . . . which i believe was not edwards intention . paramount must have collectively fainted when they saw this : and with another $ 20 million festering in catch 22 , and $ 12 million in on a clear day and $ 25 million in paint your wagon . . . . they had a financial abyss of cleopatra proportions with $ 77 million tied into 4 films with very uncertain futures . maybe they should have asked seer daisy gamble from on a clear day . . . . . . lili was very popular on immediate first release in australia and ran in 70mm cinemas for months but it failed once out in the subs and the sticks and only ever surfaced after that on one night stands with on a clear day as a sunday night double . thank god paramount had their simple $ 1million ( yes , one million dollar ) film love story and that $ 4 million dollar gangster pic the godfather also ready to recover all the $ 77 million in just the next two years . . . . for just $ 5m . . . . incredible !\n",
            "\n",
            "Review #14: some may go for a film like this but i most assuredly did not . a college professor , david norwell , suddenly gets a yen for adoption . he pretty much takes the first child offered , a bad choice named adam . as it turns out adam does n't have both oars in the water which , almost immediately , causes untold stress and turmoil for dr . norwell . this sob story drolly played out with one problem after another , all centered around adam 's inabilities and seizures . why norwell wanted to complicate his life with an unknown factor like an adoptive child was never explained . along the way the good doctor managed to attract a wifey to share in all the hell the little one was dishing out . personally , i think both of them were one beer short of a sixpack . bypass this yawner .\n",
            "\n",
            "Review #27: `` cover girl '' is a lacklustre wwii musical with absolutely nothing memorable about it , save for its signature song , `` long ago and far away . `` this film came out before gene kelly really hit his artistic stride , and while there are evidences of his burgeoning talent here , mostly he plays sidekick to rita hayworth . and there 's the problem . rita hayworth is gorgeous , no doubt about that . but she 's simply not a compelling screen presence . i 've always found myself wanting to like her more than i actually do , and this movie is no exception . she 's simply not a very good actress , and she 's not even a very good dancer . good looking as she is , there 's something vapid about her , and this movie suffers because of it . < br / > < br / > grade : c-\n",
            "\n",
            "Review #30: rita hayworth is just stunning at times and , for me , the only reason to watch this silly film . despite the overdone 1940s lipstick , rita was one of the all-time glamor women of hollywood . in fact , for a couple of years i ca n't imagine anyone that looked better , except maybe elizabeth taylor in her prime . < br / > < br / > anyway , the co-star of the show , gene kelly , does not play his normal likable , at least the kind of guy we all know him from in `` singin ' in the rain . `` here , kelly 's `` danny mcguire '' pouts much of the time . phil silvers , who i loved on tv at `` sgt . bilko , '' is so stupid in here as `` genius '' you will just cringe listening to his dumb jokes . . . . and they are stupid . < br / > < br / > the visuals are good with great technicolor , which almost looks terrific . you get to see a lot of pretty women in here , too , not just hayworth . unfortunately , the story is n't all that much . it centers around hayworth deciding about a career choice . along the way , we get the normal shabby treatment of marriage and we get an insultingly-dumb ending . all in all , an unmemorable film , except as a showcase for hayworth 's beauty .\n",
            "\n",
            "Review #32: this film seems well made , and more efforts should be made to promote films by women . that aside , this film is also profoundly disturbing in that it justifies the manipulative and psychotic machinations of a character that is profoundly disturbed . if you 've seen any of the promotional material , you might think this is a poignant film about a relationship that 's reached its end , but none of that suggests how really disturbing the central premise is : < br / > < br / > a woman threatens suicide unless her soon to be ex agrees to relive here most treasured memories of their relationship . when told how unfair ( to say the least ) that such a threat is , tessa ( the purported protagonist ) suggests that `` life 's not fair . `` < br / > < br / > huh ? ? ? this character also uses tears to manipulate her former lover into staying , and coaxes him into sexually oriented behavior ( which she initially denies as a motive ) all the while assuring him `` this is n't sex . `` < br / > < br / > reverse the genders , have the leads played by tracey gold and brian austin-green and this could air in feature length on lifetime with a title like `` hostage to obsession . `` there is no medically accepted definition of sound mental and emotional stability that would encompass tessa 's behavior in this film . < br / > < br / > props to kristen thomson for playing a border-line psychotic , manipulative ex to a t , perhaps too well because there is no well-adjusted person , male or female , who could watch this and not have shivers run up their spine .\n",
            "\n",
            "Review #35: maniratnam , who in india , is often compared with prominent world film makers and is regarded a genius in film-making , has yet again proved that he can only make the frames look visually good , without offering much food for thought . forget about pure cinematic pleasure that can be derived from cinema as a very old form of art . < br / > < br / > while i would not like to claim and portray myself as someone who has seen all the beautiful movies made around the world , still any thoughtful and a bit educated film goer can identify that his films do not contain innovative ingenuous plots , does not contain lingering effects afterward and mostly contain ridiculous ending and a lot of melodrama , seen profusely in indian movies . < br / > < br / > overall , maniratnam has successfully confirmed my distaste for his films once again . < br / > < br / > sorry for those who on this board were claiming otherwise . my suggestion to you : watch some beautiful cinemas made around the globe .\n",
            "\n",
            "Review #39: this is a hard film to rate . while it truly deserves its 3 ( or perhaps even a two ) , for an al adamson film , it 's exceptional -- and practically adamson 's very best . that 's because unlike many adamson films , there are times when nurse sherri almost looks competent . but , being an adamson film , you know that sooner or later that crappiness must rear its ugly head ! < br / > < br / > the film begins with some bizarre cult leader of a huge congregation ( six ) trying to resurrect a dead guy who looks like he 's made of blue cheese . however , in the process , the cult dude has a heart attack and it taken to the hospital . he apparently dies , but it also seems like many of these hospital scenes are missing and a few of them appear much later in the film . in other words , when you see the film , he appears to have possibly recovered -- only to hear later that he 'd died . because the guy is the b . f . f . of satan , however , his evil soul ca n't die and he comes back to both haunt one of his henchmen and to possess nurse sherri . < br / > < br / > now , sherri is obviously a very disturbed lady -- demonic possession or not . at times she acts like a zombie and at others she 's violently homicidal . so i ask . . . `` why did n't her boyfriend ( a doctor ) think this was , perhaps , problematic ? ! '' . in other words , after trying to kill a patient , he neither gets an exorcist nor commits her to the booby hatch ! ! ! oh , and speaking of boobies . . . this movie is not the breast-filled sex romp its title and posters would indicate . while there are a few bare breasts here and there , they are irrelevant to the plot and only seen very briefly ( 1/2 second or so ) in all but one scene . so , if you are a perv , this movie is not for you -- though a few places in the film ( such as the nurse undressing for a patient ) make it look like the film might have , at one time , been designed as a porn flick . < br / > < br / > if you are a bad movie fan , however , there is enough to whet your appetite . some examples of incompetence are the inability of many of the actors to deliver lines that are n't zombie-like -- and i am not even talking about sherri . especially noticeable is one of the very final scenes -- i have never seen and heard some stilted acting and dialog in my life -- and this includes ed wood 's films ! there are also a few more cheap touches , such as the bad animation of the `` green stuff '' , the doctor finding a murdered nurse yet continuing to investigate in a house where walls are covered in blood ( i 'd get a cop . . . better yet , an army of cops ) . < br / > < br / > so despite these problems , why do i think it 's good for an adamson film ? well , the story is n't all bad and he was able to build tension very well . many false alarms early on made my heart race a bit . also , the car crash , while irrelevant , came off pretty well and was practically big-budget for adamson . < br / > < br / > overall , not a good film and one most people would be bored watching . however , fans of adamson or inept films will like it -- it does deliver some entertainment in a cheesy manner that will provide a few laughs .\n",
            "\n",
            "Review #42: art-house horror tries to use unconventional aesthetics to cover the fact that this is just another serial killer chiller which ultimately relies on pornographic combinations of teen sexuality and violent gore . the suburbs come across about as well as they do in every piece of australian writing ( book or film ) since 1960 - surprise surprise , the suburbs have a dark underbelly - and the plot is as contrived as any you 've seen . `` the neighbours would never know about this guy , '' one of the filmmakers says about joel edgerton 's character . `` but he was completely plausible as to what he was . serial killers do n't all have patches over their eyes and scars down their cheeks . they look like the guy next door . `` another trader in pornographic violence who sees a serial killer in every street . but the real insignificance of this film is in the fact that it 's a genre film that nobody saw . backed by substantial funds ( including some from film finance - that 's government ) , this got a run at the underground film festival in melbourne and had to rely on acmi kindness for a *very* short release season . q1 : what is the ffc doing funding genre flicks , even if they are 'arty ' and aesthetically unconventional ? q2 : why are these nasty movies ( acolytes ; beautiful ; punishment ; no through road ) being made in the first place ? richard wolstencroft & co encourage their creators to believe they 're giving the masses what they really want , as opposed to what the culture elite in government funding think they want . the truth is that these brutal and forgettable nasties earn far more critical acclaim - and win far more obscure awards - than they 're due .\n",
            "\n",
            "Review #76: an obscure horror show filmed in the everglades . two couples stay overnight in a cabin after being made a little uneasy by the unfriendliness of the locals . who , or what , are the blood stalkers ? after awhile they find out . watch for the character of the village idiot who clucks like a chicken , he certainly is weird .\n",
            "\n",
            "Review #91: beware , my lovely ( 1952 ) dir : harry horner < br / > < br / > production : the filmmakers/rko radio pictures < br / > < br / > credulity-straining thriller from the pioneering producer team of collier young and ida lupino , aka the filmmakers ( with lupino pitching in with some uncredited direction ) . < br / > < br / > robert ryan is the 'peril ' and ida lupino is the 'woman ' in this entry in the 'woman in peril ' style film . ryan plays howard wilton , a tightly-wound psychotic handyman drifter ( noooo , ryan ? i know , hard to believe ) . lupino is the lonely war widow , helen gordon , who hires howard to do some work around her house . things go downhill from there as howard makes helen a prisoner in her own home . < br / > < br / > howard has a nasty secret , not that he could reveal it . you see , consciousness is a real challenge for him . maintaining it , that is . he has an unfortunate habit of coming to and finding his employers dead . this is part of the film 's problem . the nature of howard 's psychosis is so extreme that it is nearly impossible to believe that he 's been free to roam from town to town unobstructed , even in the year 1918 ( when the film is set ) . he ca n't remember anything that happened ten minutes ago . his violent , threatening , anti-social tendencies are set off by the smallest and most common of things ( a young girl flirting , inadequacies involving the war , due to his being rejected for service ) . i do n't know how he even made it past the interview with helen . there are other implausibilities . if you were locked in your house with a madman , but nonetheless left on your own for periods of time , could n't you figure out a way to escape ? < br / > < br / > ryan , i think , is defeated by the material . it feels like he 's overplaying his hand . his series of tics and spasms and the tightly coiled bursts of dementia all have a been-there , done-that robotic feel to them . at this point in his career he 'd probably played this character , to some degree , ten times and it shows . we are encouraged to empathize with howard ( i did n't ) through shown bits of humanity , like him being stopped in his tracks by a music box and his relating to a group of children who wo n't judge him . lupino just has to act frazzled and in distress , which she is more than capable of and does . < br / > < br / > the picture had one thing going for it ; what would be the eventual resolution of the conflict ? so naturally there was a disappointing ending that was abrupt and ineffective . < br / > < br / > of slight interest was a recurring motif where the camera would catch howard 's reflection ( in mirrors , water , christmas tree decorations ) . this indicated something going on , or about to go on , in his head . horner ( 1953 's vicki ) , who made his reputation in production design , does a fine job of making the house feel like a prison . credit too , the always reliable rko art department for the work on the house . in the end , sub-standard work from the principals , who all have much better films to their credit . < br / > < br / > *½ out of 4\n",
            "\n",
            "Review #111: this cheap , grainy-filmed italian flick is about a couple of inheritors of a manor in the italian countryside who head up to the house to stay , and then find themselves getting killed off by ghosts of people killed in that house . < br / > < br / > i was n't impressed by this . it was n't really that scary , mostly just the way a cheap italian film should be . a girl , her two cousins , and one cousin 's girlfriend , head to this huge house for some reason ( i could n't figure out why ) and are staying there , cleaning up and checking out the place . characters come in and out of the film , and it 's quite boring at points , and the majority of deaths are quite rushed . the girlfriend is hit by a car when fleeing the house after having a dream of her death , and the scene is quite good , but then things get slow again , until a confusing end , when the male cousins are killed together in some weird way , and this weirdo guy ( i could n't figure out who he was during the movie , or maybe i just do n't remember ) goes after this one girl , attacking her , until finally this other girl kills him off . hate to give away the ending , but oh well . the female cousin decides to stay at the house and watch over it , and they show scenes of her living there years later . the end . you really are n't missing anything , and anyway , you probably wo n't find this anywhere , so lucky you .\n",
            "\n",
            "Review #116: blind date ( columbia pictures , 1934 ) , was a decent film , but i have a few issues with this film . first of all , i do n't fault the actors in this film at all , but more or less , i have a problem with the script . also , i understand that this film was made in the 1930 's and people were looking to escape reality , but the script made ann sothern 's character look weak . she kept going back and forth between suitors and i felt as though she should have stayed with paul kelly 's character in the end . he truly did care about her and her family and would have done anything for her and he did by giving her up in the end to fickle neil hamilton who in my opinion was only out for a good time . paul kelly 's character , although a workaholic was a man of integrity and truly loved kitty ( ann sothern ) as opposed to neil hamilton , while he did like her a lot , i did n't see the depth of love that he had for her character . the production values were great , but the script could have used a little work .\n",
            "\n",
            "Review #133: these days , writers , directors and producers are relying more and more on the `` surprise '' ending . the old art of bringing a movie to closure , taking all of the information we have learned through out the movie and bringing it to a nice complete ending , has been lost . now what we have is a movie that , no matter how complex , detailed , or frivolous , can be wrapped up in 5 minutes . it was all in his/her head . that explanation is the director 's safety net . if all else fails , or if the writing was n't that good , or if we ran out of money to complete the movie , we can always say `` it was all in his/her head '' and end the movie that way . the audience will buy it because , well , none of us are psychologists , and none of us are suffering from schizophrenia ( not that we know about ) so we take the story and believe it . after all , the mind is a powerful thing . some movies have pulled it off . but those movies are the reason why we are getting more and more of these crap endings . every director/writer now thinks they can pull it off because , well , fight club did it and it made a lot of money . so we get movies like the machinist , secret window , identity , and this movie ( just to name a few ) .\n",
            "\n",
            "Review #147: i usually enjoy watching laurel and hardy , but this is obviously one of the films they made while they were on their way to becoming a successful comedy team . < br / > < br / > the plot is all too simple , and is mainly based on one joke ; how strange kilts and scotsmen are . and that 's all . okay , there are some other jokes , but i did n't find them very funny at all ; they are outdated and ( i guess ) were not very entertaining when the movie was first released . < br / > < br / > still , the movie has got two of the most charming faces in history , and they make the best out of the awkward story ( which i expect was filmed without a proper script ) and the scenery is nice to look at . < br / > < br / > in my opinion , watching this is only worthwhile for laurel and hardy fans , other people should stay away from it .\n",
            "\n",
            "Review #148: i came across this film on the net by fluke and i was horrified by its content of vivid abuse violence and torture scenes . it was a relief to know it was not real after reading the comments . what dangerously sick animals of a person make something like this and for what purpose goes beyond belief . i was even more shocked to see people appraising the film in the comments section of this site . this is a extremely disturbing film indeed which could change your life forever . the people behind this should be bought to justice asap . today they shown a girl getting raped and butchered on screen tomorrow it could be a child . even its fake or not its very very deathly disturbing , nauseating indeed .\n",
            "\n",
            "Review #152: frankie muniz plays jason who is a high school student . his biggest problem is his life is built on small or big lies that puts him into trouble most times . however , he can not escape from his teacher and he finishes his creative writing homework just before its deadline . while he is biking fast to hand his homework to the teacher , he crushes into a car . as he explains the situation to grumpy man ( giamatti ) in the car , he gives him a lift to his school . but the problem is jason leaves his homework in the car , the other way of saying this is marty wolf ( giamatti ) steals it . < br / > < br / > after a few months jason goes to a movie and sees a trailer that takes him aback . because the story of the movie is based on his homework . he tells that to his parents but of course they do n't believe him . especially his father uses words which insults him . jason decides to go to la and find wolf to tell his father that jason is not a liar . when wolf refuses it , jason takes action and ruins his life . < br / > < br / > this is the short story of the big fat liar . well , as a kids movie it might be a light hearted one but there are some errors that even could would ask if that is possible . such as , having such a small amount of money and going to la with a friend to sort the problem out , having access to this cinema producer 's highly protected house and office , setting up a telecommunications system overnight . does it seem believable ? it does not . well this is a kids movie but kids are not that gullible . < br / > < br / > big fat liar offers some little pleasure to its target audience . unfortunately , i am not a big fat liar to say that this is a good movie . ** out of *****\n",
            "\n",
            "Review #163: i ca n't believe how dumb this movie truly is . the storyline ( written by keira knightley 's mother ) is what ruins the movie to the extreme . it is straight out dull , absurd , and makes absolutely no sense whatsoever . . . < br / > < br / > this movie lagged so bad for most of it , especially at the beginning . the story just kept going on and on about their everyday flirts with each other , often times seeming like a threesome . in this movie , you have an annoying deadbeat couple ( the poet and his wife ) who are complete total drunks from the start . the wife sleeps around with other men to make ends meet , while the poet is a pervert who thrives on cheap boos and women . the wife , who waaayyyyyy too quickly becomes friends with his former childhood lover ( played by keira ) suddenly gets jealous , knowing full well that the two were lovers since they were kids . something does n't seem right here . . . . i mean , come on . . . get with the program lady ! what 'd you expect . < br / > < br / > bottom line is : former lovers meet again with new wife embracing it , then gets jealous , then former woman lover gets married and her husband gets jealous , bombards the crazy drunk couple 's home , crazy husband calls police , and they end up going to court for the man 's attempted murder charges . that 's it summed up in a nutshell . . . < br / > < br / > this movie had it 's moments such as the quality and good acting by cillian murphy , but other than that , i can not believe i watched it . . . i complained about it during the movie and some family members watching it with me fell asleep . i decided to give it a chance and i should have stuck to my first instincts .\n",
            "\n",
            "Review #164: this movie is so dull i spent half of it on imdb while it was open in another tab on netflix trying to find out if anyone thought it was one of the more boring , ponderous , gimmicky films they 've ever seen . a warning : i actually could not finish it , so these are my impressions up to minute 54 . < br / > < br / > keira knightly gets loads of screen time . as others have mentioned , her mother penned the script ( perhaps during some sort of drug-induced stupor wherein utter inanities and emotionless statements about emotions sounded like interesting dialogue ) and it seems that the film is a showcase for knightly . oops ! although i agree she is lovely ( with her teeth unexposed . . . her barred teeth cause me anxiety and fear ) i found her reactions forced and poorly timed . as in , william or dylan does something cute . . . pause . . . hahaha from k with dimples and a playful arm jab . like a minute too late . what ? and she can not match cillian murphy 's intensity . he somehow manages to really look at her and look as though he is fascinated by her and falling in love with her whereas she seems totally disconnected , almost like she is interacting with a mirror . that must be torture , acting opposite someone who is n't delivering the same level of energy as you . know what else is torture ? this movie . < br / > < br / > knightly does look stunning during her cyclical `` i 've got 1940s pin curls and a hot dress . watch me sing ! '' shots , but what 's the point ? is she an altar or an actress ? when she talks it 's bizarre , `` ooow , mehster deelan . whur eer ya going ? '' this makes me confused because the accent is so mixed up and unauthentic , yet so thick at times i have no idea what she 's saying ( or maybe fell asleep ) . if no one knows who vera was or cares , or few do , was it so important to give her this supposed welsh accent ? it distracts from all the rest of the action ( just kidding there ) . < br / > < br / > this movie seems like someone dreamed a movie , maybe after reading a little dylan thomas before bed . but instead of adapting to the waking world was like , `` man , that dream was so interesting '' and tried to replicate it . then someone else cautioned , `` your script needs work . nothing that happens furthers a story or creates necessity '' and the writer is all , `` but that 's the way i dreamed it ! '' it 's like the rambling fantasy of a child , one of those wild and meandering yarns they spin to get your attention . and then william went to a war and then vera had a baby and then some blond chick drank too much and there were so many airplanes and pin curls and everyone had ruby red lips and . . . < br / > < br / > as for the dylan thomas character ( so bland that 's all i can call him ) , why did n't he have any lines in this goofy biopic ? all he does is drink beer and smoke cigarettes and roll around with sienna miller , who is so wild and artistic she 'll do a cartwheel in public ! get outta here , you crazy poets ! ( i realize she is not a poet , but she and thomas are like this one nauseating unit of crazy guys havin crazy times , like a lukewarm sailor and lula from wild at heart . ) someone asks in the message board if they should buy this film . i say do it . leave it on your shelf and only utilize it as a weapon to narcotize children , the elderly , or lingering house guests . < br / > < br / > p . s . to murphy 's character . . . when someone asks if you were `` in the sh** '' you can say yes , because your war scenes appear to have been shot at a landfill .\n",
            "\n",
            "Review #170: there were so many classic movies that were made where the leading people were out-and- out liars and yet they are made to look good . i never bought into that stuff . the `` screwball comedies '' were full of that stuff and so were a lot of the fred astaire films . < br / > < br / > here , barbara stanwyck plays a famous `` country '' magazine writer who has been lying to the public for years , and feels she has to keep lying to keep her persona ( and her job ) . she even lies to a guy about getting married , another topic that was always trivialized in classic films . < br / > < br / > she 's a new york city woman who pretends she 's a great cook and someone who knows how to handle babies , etc . obviously she knows nothing and the lies pile up so fast you lose track . i guess all of that is supposed to be funny because lessons are learned in the end and true love prevails , etc . etc . please pass the barf bag . < br / > < br / > most of this film is not funny . stanwyck was far better in the film noir genre . as for dennis morgan , well , pass the bag again .\n",
            "\n"
          ]
        }
      ],
      "source": [
        "for i in simple_rnn_corrected[:20]:\n",
        "  print(\"Review #\" + str(i) + \": \" + ' '.join(test_df['tokens'][i]))\n",
        "  print()"
      ]
    },
    {
      "cell_type": "code",
      "execution_count": 159,
      "metadata": {
        "colab": {
          "base_uri": "https://localhost:8080/"
        },
        "id": "MWKYYidxDnMp",
        "outputId": "b631bc6d-262c-4eed-a31a-7af12517ba48"
      },
      "outputs": [
        {
          "name": "stdout",
          "output_type": "stream",
          "text": [
            "Simple RNN\n",
            "Review 90 start\n",
            "the only reason this movie is not given a 1 ( awful ) vote\n",
            "Score: 0\n",
            "\n",
            "Review 90 end\n",
            "I recommend watching this movie just to see what oddities you can find\n",
            "Score: 1\n",
            "\n",
            "Review 90 full\n",
            "The only reason this movie is not given a 1 (awful) vote is that the acting of both Ida Lupino and Robert Ryan is superb. Ida Lupino who is lovely, as usual, becomes increasingly distraught as she tries various means to rid herself of a madman. Robert Ryan is terrifying as the menacing stranger whose character, guided only by his disturbed mind, changes from one minute to the next. Seemingly simple and docile, suddenly he becomes clever and threatening. Ms. Lupino's character was in more danger from that house she lived in and her own stupidity than by anyone who came along. She could not manage to get out of her of her own house: windows didn't open, both front and back doors locked and unlocked from the inside with a key. You could not have designed a worse fire-trap if you tried. She did not take the precaution of having even one extra key. Nor could she figure out how to summon help from nearby neighbors or get out of her own basement while she was locked in and out of sight of her captor. I don't know what war her husband was killed in, but if it was World War II, the furnishings in her house, the styles of the clothes, especially the children and the telephone company repairman's car are clearly anachronistic. I recommend watching this movie just to see what oddities you can find.\n",
            "Score: 1\n"
          ]
        }
      ],
      "source": [
        "print(\"Simple RNN\")\n",
        "print(\"Review 90 start\")\n",
        "review_90_start = \"the only reason this movie is not given a 1 ( awful ) vote\"\n",
        "print(review_90_start)\n",
        "review_90_start = convertToIndex(tokenizeReview(review_90_start))\n",
        "review_90_start = sequence.pad_sequences([review_90_start], maxlen=max_words)\n",
        "print(\"Score: \" + str(to_binary(model_simple_rnn.predict(review_90_start))))\n",
        "\n",
        "print(\"\\nReview 90 end\")\n",
        "review_90_end = \"I recommend watching this movie just to see what oddities you can find\"\n",
        "print(review_90_end)\n",
        "review_90_end = convertToIndex(tokenizeReview(review_90_end))\n",
        "review_90_end = sequence.pad_sequences([review_90_end], maxlen=max_words)\n",
        "print(\"Score: \" + str(to_binary(model_simple_rnn.predict(review_90_end))))\n",
        "\n",
        "print(\"\\nReview 90 full\")\n",
        "review_90_full = \"The only reason this movie is not given a 1 (awful) vote is that the acting of both Ida Lupino and Robert Ryan is superb. Ida Lupino who is lovely, as usual, becomes increasingly distraught as she tries various means to rid herself of a madman. Robert Ryan is terrifying as the menacing stranger whose character, guided only by his disturbed mind, changes from one minute to the next. Seemingly simple and docile, suddenly he becomes clever and threatening. Ms. Lupino's character was in more danger from that house she lived in and her own stupidity than by anyone who came along. She could not manage to get out of her of her own house: windows didn't open, both front and back doors locked and unlocked from the inside with a key. You could not have designed a worse fire-trap if you tried. She did not take the precaution of having even one extra key. Nor could she figure out how to summon help from nearby neighbors or get out of her own basement while she was locked in and out of sight of her captor. I don't know what war her husband was killed in, but if it was World War II, the furnishings in her house, the styles of the clothes, especially the children and the telephone company repairman's car are clearly anachronistic. I recommend watching this movie just to see what oddities you can find.\"\n",
        "print(review_90_full)\n",
        "review_90_full = convertToIndex(tokenizeReview(review_90_full))\n",
        "review_90_full = sequence.pad_sequences([review_90_full], maxlen=max_words)\n",
        "print(\"Score: \" + str(to_binary(model_simple_rnn.predict(review_90_full))))"
      ]
    },
    {
      "cell_type": "code",
      "execution_count": 160,
      "metadata": {
        "colab": {
          "base_uri": "https://localhost:8080/"
        },
        "id": "IgbAJ47KINxf",
        "outputId": "1b7f9ecd-a81d-4d37-8227-e75ac9bb27cb"
      },
      "outputs": [
        {
          "name": "stdout",
          "output_type": "stream",
          "text": [
            "Review 161 end: i strongly advise avoiding `` the edge of love '' , unless you watch a film only to appreciate great costumes , nice sets and lighting\n",
            "Simple RNN prediction: 1\n",
            "GRU prediction: 0\n"
          ]
        }
      ],
      "source": [
        "review_161_end = \"i strongly advise avoiding `` the edge of love '' , unless you watch a film only to appreciate great costumes , nice sets and lighting\"\n",
        "print(\"Review 161 end: \" + review_161_end)\n",
        "review_161_end = convertToIndex(tokenizeReview(review_161_end))\n",
        "review_161_end = sequence.pad_sequences([review_161_end], maxlen=max_words)\n",
        "\n",
        "print(\"Simple RNN prediction: \" + str(to_binary(model_simple_rnn.predict(review_161_end))))\n",
        "print(\"GRU prediction: \" + str(to_binary(model_gru.predict(review_161_end))))"
      ]
    },
    {
      "cell_type": "code",
      "execution_count": 161,
      "metadata": {
        "colab": {
          "base_uri": "https://localhost:8080/"
        },
        "id": "p0Pq6pTjTilq",
        "outputId": "5aca9e8b-ffa2-4012-c3e7-bae6f1a49fcb"
      },
      "outputs": [
        {
          "name": "stdout",
          "output_type": "stream",
          "text": [
            "Simple RNN test accuracy: 0.7853999733924866\n",
            "GRU test accuracy: 0.7732800245285034\n",
            "LSTM test accuracy: 0.7808399796485901\n"
          ]
        }
      ],
      "source": [
        "def tokenizeReviewTrimmed(review):\n",
        "  return tokenizeReview(review)[-50:]\n",
        "\n",
        "# train_df['tokens_trimmed'] = train_df['text'].apply(tokenizeReviewTrimmed)\n",
        "test_df['tokens_trimmed'] = test_df['text'].apply(tokenizeReviewTrimmed)\n",
        "# train_df['vec_trimmed'] = train_df['tokens_trimmed'].apply(convertToIndex)\n",
        "test_df['vec_trimmed'] = test_df['tokens_trimmed'].apply(convertToIndex)\n",
        "\n",
        "max_words_trimmed = 500\n",
        "X_train_trimmed = sequence.pad_sequences(train_df['vec_trimmed'], maxlen=max_words_trimmed)\n",
        "X_test_trimmed = sequence.pad_sequences(test_df['vec_trimmed'], maxlen=max_words_trimmed)\n",
        "\n",
        "scores = model_simple_rnn.evaluate(X_test_trimmed, y_test, verbose=0)\n",
        "print('Simple RNN test accuracy:', scores[1])\n",
        "\n",
        "scores = model_gru.evaluate(X_test_trimmed, y_test, verbose=0)\n",
        "print('GRU test accuracy:', scores[1])\n",
        "\n",
        "scores = model_lstm.evaluate(X_test_trimmed, y_test, verbose=0)\n",
        "print('LSTM test accuracy:', scores[1])"
      ]
    },
    {
      "cell_type": "code",
      "execution_count": 162,
      "metadata": {
        "colab": {
          "base_uri": "https://localhost:8080/"
        },
        "id": "dExrpDRHYCsA",
        "outputId": "67bbf3b9-821d-424b-8737-647544a3377d"
      },
      "outputs": [
        {
          "name": "stdout",
          "output_type": "stream",
          "text": [
            "Simple RNN test accuracy: 0.8100399971008301\n",
            "GRU test accuracy: 0.8052399754524231\n",
            "LSTM test accuracy: 0.8190799951553345\n"
          ]
        }
      ],
      "source": [
        "def tokenizeReviewTrimmed(review):\n",
        "  return tokenizeReview(review)[-100:]\n",
        "\n",
        "# train_df['tokens_trimmed'] = train_df['text'].apply(tokenizeReviewTrimmed)\n",
        "test_df['tokens_trimmed'] = test_df['text'].apply(tokenizeReviewTrimmed)\n",
        "# train_df['vec_trimmed'] = train_df['tokens_trimmed'].apply(convertToIndex)\n",
        "test_df['vec_trimmed'] = test_df['tokens_trimmed'].apply(convertToIndex)\n",
        "\n",
        "max_words_trimmed = 500\n",
        "X_train_trimmed = sequence.pad_sequences(train_df['vec_trimmed'], maxlen=max_words_trimmed)\n",
        "X_test_trimmed = sequence.pad_sequences(test_df['vec_trimmed'], maxlen=max_words_trimmed)\n",
        "\n",
        "scores = model_simple_rnn.evaluate(X_test_trimmed, y_test, verbose=0)\n",
        "print('Simple RNN test accuracy:', scores[1])\n",
        "\n",
        "scores = model_gru.evaluate(X_test_trimmed, y_test, verbose=0)\n",
        "print('GRU test accuracy:', scores[1])\n",
        "\n",
        "scores = model_lstm.evaluate(X_test_trimmed, y_test, verbose=0)\n",
        "print('LSTM test accuracy:', scores[1])"
      ]
    },
    {
      "cell_type": "code",
      "execution_count": 163,
      "metadata": {
        "colab": {
          "base_uri": "https://localhost:8080/"
        },
        "id": "PuSwWQSwYks6",
        "outputId": "382759dd-a6d7-4306-af16-faef23f2312f"
      },
      "outputs": [
        {
          "name": "stdout",
          "output_type": "stream",
          "text": [
            "Simple RNN test accuracy: 0.8165199756622314\n",
            "GRU test accuracy: 0.8249199986457825\n",
            "LSTM test accuracy: 0.8320800065994263\n"
          ]
        }
      ],
      "source": [
        "def tokenizeReviewTrimmed(review):\n",
        "  return tokenizeReview(review)[-150:]\n",
        "\n",
        "# train_df['tokens_trimmed'] = train_df['text'].apply(tokenizeReviewTrimmed)\n",
        "test_df['tokens_trimmed'] = test_df['text'].apply(tokenizeReviewTrimmed)\n",
        "# train_df['vec_trimmed'] = train_df['tokens_trimmed'].apply(convertToIndex)\n",
        "test_df['vec_trimmed'] = test_df['tokens_trimmed'].apply(convertToIndex)\n",
        "\n",
        "max_words_trimmed = 500\n",
        "X_train_trimmed = sequence.pad_sequences(train_df['vec_trimmed'], maxlen=max_words_trimmed)\n",
        "X_test_trimmed = sequence.pad_sequences(test_df['vec_trimmed'], maxlen=max_words_trimmed)\n",
        "\n",
        "scores = model_simple_rnn.evaluate(X_test_trimmed, y_test, verbose=0)\n",
        "print('Simple RNN test accuracy:', scores[1])\n",
        "\n",
        "scores = model_gru.evaluate(X_test_trimmed, y_test, verbose=0)\n",
        "print('GRU test accuracy:', scores[1])\n",
        "\n",
        "scores = model_lstm.evaluate(X_test_trimmed, y_test, verbose=0)\n",
        "print('LSTM test accuracy:', scores[1])"
      ]
    }
  ],
  "metadata": {
    "colab": {
      "collapsed_sections": [],
      "name": "basic_simple_rnn_model.ipynb",
      "provenance": []
    },
    "kernelspec": {
      "display_name": "Python 3",
      "name": "python3"
    },
    "language_info": {
      "name": "python"
    }
  },
  "nbformat": 4,
  "nbformat_minor": 0
}
